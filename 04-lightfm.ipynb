{
 "cells": [
  {
   "cell_type": "code",
   "execution_count": 1,
   "metadata": {
    "_cell_guid": "b1076dfc-b9ad-4769-8c92-a6c4dae69d19",
    "_uuid": "8f2839f25d086af736a60e9eeb907d3b93b6e0e5",
    "execution": {
     "iopub.execute_input": "2025-04-14T10:05:52.805743Z",
     "iopub.status.busy": "2025-04-14T10:05:52.804957Z",
     "iopub.status.idle": "2025-04-14T10:05:56.989046Z",
     "shell.execute_reply": "2025-04-14T10:05:56.987813Z",
     "shell.execute_reply.started": "2025-04-14T10:05:52.805693Z"
    },
    "trusted": true
   },
   "outputs": [
    {
     "name": "stdout",
     "output_type": "stream",
     "text": [
      "Looking in indexes: https://pypi.tuna.tsinghua.edu.cn/simple\n",
      "Requirement already satisfied: LightFM in c:\\users\\iris\\lightfm (1.17)\n",
      "Requirement already satisfied: numpy in c:\\users\\iris\\anaconda3\\lib\\site-packages (from LightFM) (1.26.4)\n",
      "Requirement already satisfied: scipy>=0.17.0 in c:\\users\\iris\\anaconda3\\lib\\site-packages (from LightFM) (1.11.4)\n",
      "Requirement already satisfied: requests in c:\\users\\iris\\anaconda3\\lib\\site-packages (from LightFM) (2.31.0)\n",
      "Requirement already satisfied: scikit-learn in c:\\users\\iris\\anaconda3\\lib\\site-packages (from LightFM) (1.6.1)\n",
      "Requirement already satisfied: charset-normalizer<4,>=2 in c:\\users\\iris\\anaconda3\\lib\\site-packages (from requests->LightFM) (2.0.4)\n",
      "Requirement already satisfied: idna<4,>=2.5 in c:\\users\\iris\\anaconda3\\lib\\site-packages (from requests->LightFM) (3.4)\n",
      "Requirement already satisfied: urllib3<3,>=1.21.1 in c:\\users\\iris\\anaconda3\\lib\\site-packages (from requests->LightFM) (2.0.7)\n",
      "Requirement already satisfied: certifi>=2017.4.17 in c:\\users\\iris\\anaconda3\\lib\\site-packages (from requests->LightFM) (2025.1.31)\n",
      "Requirement already satisfied: joblib>=1.2.0 in c:\\users\\iris\\anaconda3\\lib\\site-packages (from scikit-learn->LightFM) (1.2.0)\n",
      "Requirement already satisfied: threadpoolctl>=3.1.0 in c:\\users\\iris\\anaconda3\\lib\\site-packages (from scikit-learn->LightFM) (3.5.0)\n",
      "Note: you may need to restart the kernel to use updated packages.\n"
     ]
    }
   ],
   "source": [
    "pip install -i https://pypi.tuna.tsinghua.edu.cn/simple LightFM"
   ]
  },
  {
   "cell_type": "code",
   "execution_count": 1,
   "metadata": {
    "_kg_hide-input": false,
    "_kg_hide-output": false,
    "execution": {
     "iopub.execute_input": "2025-04-14T10:05:56.991468Z",
     "iopub.status.busy": "2025-04-14T10:05:56.991074Z",
     "iopub.status.idle": "2025-04-14T10:05:56.996630Z",
     "shell.execute_reply": "2025-04-14T10:05:56.995581Z",
     "shell.execute_reply.started": "2025-04-14T10:05:56.991438Z"
    },
    "trusted": true
   },
   "outputs": [
    {
     "name": "stderr",
     "output_type": "stream",
     "text": [
      "c:\\users\\iris\\lightfm\\lightfm\\_lightfm_fast.py:9: UserWarning: LightFM was compiled without OpenMP support. Only a single thread will be used.\n",
      "  warnings.warn(\n"
     ]
    }
   ],
   "source": [
    "import pandas as pd\n",
    "import numpy as np\n",
    "from lightfm import LightFM \n",
    "from lightfm.data import Dataset\n",
    "from scipy.sparse import csr_matrix\n",
    "import pickle\n",
    "from sklearn.model_selection import train_test_split\n",
    "from lightfm.evaluation import precision_at_k, recall_at_k\n",
    "from lightfm.evaluation import auc_score"
   ]
  },
  {
   "cell_type": "code",
   "execution_count": null,
   "metadata": {
    "execution": {
     "iopub.execute_input": "2025-04-14T10:05:56.999455Z",
     "iopub.status.busy": "2025-04-14T10:05:56.999085Z",
     "iopub.status.idle": "2025-04-14T10:06:01.891009Z",
     "shell.execute_reply": "2025-04-14T10:06:01.890135Z",
     "shell.execute_reply.started": "2025-04-14T10:05:56.999427Z"
    },
    "trusted": true
   },
   "outputs": [
    {
     "name": "stdout",
     "output_type": "stream",
     "text": [
      "   product_id  p_users_unique  p_users_total  p_reordered_total  \\\n",
      "0           1             716           1852               1136   \n",
      "1           2              78             90                 12   \n",
      "2           3              74            277                203   \n",
      "3           4             182            329                147   \n",
      "4           5               6             15                  9   \n",
      "\n",
      "   p_reordered_percentage  p_avg_cart  p_order_first_cnt  p_order_second_cnt  \\\n",
      "0                0.613391    5.801836                716                 276   \n",
      "1                0.133333    9.888889                 78                   8   \n",
      "2                0.732852    6.415162                 74                  36   \n",
      "3                0.446809    9.507599                182                  64   \n",
      "4                0.600000    6.466667                  6                   4   \n",
      "\n",
      "   p_order_second_percent                                       product_name  \\\n",
      "0                0.385475                         Chocolate Sandwich Cookies   \n",
      "1                0.102564                                   All-Seasons Salt   \n",
      "2                0.486486               Robust Golden Unsweetened Oolong Tea   \n",
      "3                0.351648  Smart Ones Classic Favorites Mini Rigatoni Wit...   \n",
      "4                0.666667                          Green Chile Anytime Sauce   \n",
      "\n",
      "   ...  a_users_total  a_reordered_total a_reordered_percentage  a_avg_cart  \\\n",
      "0  ...         234065             128431               0.548698    9.253092   \n",
      "1  ...         212092              32321               0.152391    9.996181   \n",
      "2  ...         249341             131556               0.527615    8.519846   \n",
      "3  ...         390299             217262               0.556655    9.207741   \n",
      "4  ...          62510              17542               0.280627   10.297600   \n",
      "\n",
      "   d_users_unique  d_users_total  d_reordered_total  d_reordered_percentage  \\\n",
      "0          174219        2887550            1657973                0.574180   \n",
      "1          172755        1875577             650301                0.346721   \n",
      "2          172795        2690129            1757892                0.653460   \n",
      "3          163233        2236432            1211890                0.541885   \n",
      "4          172755        1875577             650301                0.346721   \n",
      "\n",
      "   d_avg_cart  department  \n",
      "0    9.187743      snacks  \n",
      "1    9.593425      pantry  \n",
      "2    6.976699   beverages  \n",
      "3    8.996414      frozen  \n",
      "4    9.593425      pantry  \n",
      "\n",
      "[5 rows x 24 columns]\n",
      "Number of rows in prod_f1: 49677\n"
     ]
    },
    {
     "data": {
      "text/plain": [
       "49677"
      ]
     },
     "execution_count": 2,
     "metadata": {},
     "output_type": "execute_result"
    }
   ],
   "source": [
    "# Load the pickle files into DataFrames\n",
    "prod_f1 = pd.read_pickle('./product_features1.pkl')\n",
    "u_f = pd.read_pickle(\"./user_features1.pkl\")\n",
    "u_prod_f = pd.read_pickle('./user_product_features1.pkl')\n",
    "\n",
    "# Display the DataFrames (optional)\n",
    "print(prod_f1.head())\n",
    "print(f\"Number of rows in prod_f1: {len(prod_f1)}\")\n",
    "len(prod_f1)\n"
   ]
  },
  {
   "cell_type": "code",
   "execution_count": 5,
   "metadata": {
    "execution": {
     "iopub.execute_input": "2025-04-14T10:06:01.892932Z",
     "iopub.status.busy": "2025-04-14T10:06:01.892566Z",
     "iopub.status.idle": "2025-04-14T10:06:01.904236Z",
     "shell.execute_reply": "2025-04-14T10:06:01.903190Z",
     "shell.execute_reply.started": "2025-04-14T10:06:01.892897Z"
    },
    "trusted": true
   },
   "outputs": [
    {
     "name": "stdout",
     "output_type": "stream",
     "text": [
      "   user_id  product_id  u_p_avg_cart  u_p_avg_days_since_prior  \\\n",
      "0        1         196      1.400000                 17.600000   \n",
      "1        1       10258      3.333333                 19.555555   \n",
      "2        1       10326      5.000000                 28.000000   \n",
      "3        1       12427      3.300000                 17.600000   \n",
      "4        1       13032      6.333333                 21.666666   \n",
      "\n",
      "   u_p_orders_total  u_p_reordered_total  u_p_reordered_percentage  \\\n",
      "0                10                    9                  0.900000   \n",
      "1                 9                    8                  0.888889   \n",
      "2                 1                    0                  0.000000   \n",
      "3                10                    9                  0.900000   \n",
      "4                 3                    2                  0.666667   \n",
      "\n",
      "   u_p_last_order  is_reorder_3  is_reorder_2  is_reorder_1  \n",
      "0              10           1.0           1.0           1.0  \n",
      "1              10           1.0           1.0           1.0  \n",
      "2               5           0.0           0.0           0.0  \n",
      "3              10           1.0           1.0           1.0  \n",
      "4              10           1.0           0.0           0.0  \n"
     ]
    },
    {
     "data": {
      "text/plain": [
       "13307953"
      ]
     },
     "execution_count": 5,
     "metadata": {},
     "output_type": "execute_result"
    }
   ],
   "source": [
    "print(u_prod_f.head())\n",
    "len(u_prod_f)"
   ]
  },
  {
   "cell_type": "code",
   "execution_count": 6,
   "metadata": {
    "execution": {
     "iopub.execute_input": "2025-04-14T10:06:01.905392Z",
     "iopub.status.busy": "2025-04-14T10:06:01.905135Z",
     "iopub.status.idle": "2025-04-14T10:06:01.933450Z",
     "shell.execute_reply": "2025-04-14T10:06:01.932231Z",
     "shell.execute_reply.started": "2025-04-14T10:06:01.905370Z"
    },
    "trusted": true
   },
   "outputs": [
    {
     "name": "stdout",
     "output_type": "stream",
     "text": [
      "   user_id  u_mean_dow  u_std_dow  u_avg_hour  u_std_hour  \\\n",
      "0        1    2.644068   1.256194   10.542373    3.500355   \n",
      "1        2    2.005128   0.971222   10.441026    1.649854   \n",
      "2        3    1.011364   1.245630   16.352273    1.454599   \n",
      "3        4    4.722222   0.826442   13.111111    1.745208   \n",
      "4        5    1.621622   1.276961   15.729730    2.588958   \n",
      "\n",
      "   u_avg_days_since_prior  u_std_days_since_prior  u_orders_total  \\\n",
      "0               18.542374               10.559065              10   \n",
      "1               14.902564                9.671712              14   \n",
      "2               10.181818                5.867396              12   \n",
      "3               11.944445                9.973330               5   \n",
      "4               10.189189                7.600577               4   \n",
      "\n",
      "   u_products_total  u_products_unique  u_reordered_total  \\\n",
      "0                59                 18                 41   \n",
      "1               195                102                 93   \n",
      "2                88                 33                 55   \n",
      "3                18                 17                  1   \n",
      "4                37                 23                 14   \n",
      "\n",
      "   u_reordered_percentage  u_avg_order_size  u_avg_reordered_orders  orders_3  \\\n",
      "0                0.694915          5.900000                0.705833       6.0   \n",
      "1                0.476923         13.928571                0.447961      19.0   \n",
      "2                0.625000          7.333333                0.658817       6.0   \n",
      "3                0.055556          3.600000                0.028571       7.0   \n",
      "4                0.378378          9.250000                0.377778       9.0   \n",
      "\n",
      "   orders_2  orders_1  reorder_3  reorder_2  reorder_1  \n",
      "0       6.0       9.0   0.666667        1.0   0.666667  \n",
      "1       9.0      16.0   0.578947        0.0   0.625000  \n",
      "2       5.0       6.0   0.833333        1.0   1.000000  \n",
      "3       2.0       3.0   0.142857        0.0   0.000000  \n",
      "4       5.0      12.0   0.444444        0.4   0.666667  \n"
     ]
    },
    {
     "data": {
      "text/plain": [
       "206209"
      ]
     },
     "execution_count": 6,
     "metadata": {},
     "output_type": "execute_result"
    }
   ],
   "source": [
    "print(u_f.head())\n",
    "len(u_f)"
   ]
  },
  {
   "cell_type": "code",
   "execution_count": 9,
   "metadata": {},
   "outputs": [
    {
     "name": "stdout",
     "output_type": "stream",
     "text": [
      "                         user_id  u_mean_dow  u_std_dow  u_avg_hour  \\\n",
      "user_id                 1.000000   -0.001486   0.000847    0.001170   \n",
      "u_mean_dow             -0.001486    1.000000   0.167551   -0.002256   \n",
      "u_std_dow               0.000847    0.167551   1.000000    0.069197   \n",
      "u_avg_hour              0.001170   -0.002256   0.069197    1.000000   \n",
      "u_std_hour              0.002463    0.059094   0.172756   -0.006721   \n",
      "u_avg_days_since_prior  0.003232   -0.036810  -0.040949    0.042678   \n",
      "u_std_days_since_prior  0.003901   -0.031917  -0.077813    0.060456   \n",
      "u_orders_total         -0.002122    0.019901   0.166557   -0.062973   \n",
      "u_products_total       -0.002171   -0.008535   0.158198   -0.042106   \n",
      "u_products_unique      -0.002037   -0.012439   0.193353   -0.013795   \n",
      "u_reordered_total      -0.002071   -0.006559   0.134868   -0.049353   \n",
      "u_reordered_percentage -0.002306   -0.012274   0.160319   -0.074130   \n",
      "u_avg_order_size       -0.002283   -0.065106   0.036460    0.025225   \n",
      "u_avg_reordered_orders -0.003182   -0.009476   0.162050   -0.064898   \n",
      "orders_3               -0.002937   -0.051339   0.038465    0.015851   \n",
      "orders_2                0.000372   -0.052054   0.039088    0.015389   \n",
      "orders_1               -0.003534   -0.050249   0.037233    0.016798   \n",
      "reorder_3              -0.001962   -0.001954   0.172476   -0.048053   \n",
      "reorder_2              -0.002351   -0.009598   0.115553   -0.043701   \n",
      "reorder_1              -0.002727   -0.010348   0.087470   -0.043188   \n",
      "\n",
      "                        u_std_hour  u_avg_days_since_prior  \\\n",
      "user_id                   0.002463                0.003232   \n",
      "u_mean_dow                0.059094               -0.036810   \n",
      "u_std_dow                 0.172756               -0.040949   \n",
      "u_avg_hour               -0.006721                0.042678   \n",
      "u_std_hour                1.000000               -0.063579   \n",
      "u_avg_days_since_prior   -0.063579                1.000000   \n",
      "u_std_days_since_prior   -0.092311                0.709222   \n",
      "u_orders_total            0.174836               -0.450874   \n",
      "u_products_total          0.150258               -0.356599   \n",
      "u_products_unique         0.155997               -0.289099   \n",
      "u_reordered_total         0.137978               -0.356436   \n",
      "u_reordered_percentage    0.178011               -0.289170   \n",
      "u_avg_order_size          0.010363                0.002132   \n",
      "u_avg_reordered_orders    0.177122               -0.287335   \n",
      "orders_3                  0.016735               -0.026102   \n",
      "orders_2                  0.016179                0.020576   \n",
      "orders_1                  0.016811                0.042908   \n",
      "reorder_3                 0.165513               -0.171353   \n",
      "reorder_2                 0.121483               -0.184311   \n",
      "reorder_1                 0.103670               -0.189574   \n",
      "\n",
      "                        u_std_days_since_prior  u_orders_total  \\\n",
      "user_id                               0.003901       -0.002122   \n",
      "u_mean_dow                           -0.031917        0.019901   \n",
      "u_std_dow                            -0.077813        0.166557   \n",
      "u_avg_hour                            0.060456       -0.062973   \n",
      "u_std_hour                           -0.092311        0.174836   \n",
      "u_avg_days_since_prior                0.709222       -0.450874   \n",
      "u_std_days_since_prior                1.000000       -0.517618   \n",
      "u_orders_total                       -0.517618        1.000000   \n",
      "u_products_total                     -0.450827        0.807584   \n",
      "u_products_unique                    -0.362859        0.670323   \n",
      "u_reordered_total                    -0.451562        0.801641   \n",
      "u_reordered_percentage               -0.460648        0.636891   \n",
      "u_avg_order_size                     -0.086312        0.021919   \n",
      "u_avg_reordered_orders               -0.412048        0.613522   \n",
      "orders_3                             -0.089561        0.048747   \n",
      "orders_2                             -0.099651        0.048497   \n",
      "orders_1                             -0.084657        0.040593   \n",
      "reorder_3                            -0.315593        0.448579   \n",
      "reorder_2                            -0.276240        0.377381   \n",
      "reorder_1                            -0.277027        0.340563   \n",
      "\n",
      "                        u_products_total  u_products_unique  \\\n",
      "user_id                        -0.002171          -0.002037   \n",
      "u_mean_dow                     -0.008535          -0.012439   \n",
      "u_std_dow                       0.158198           0.193353   \n",
      "u_avg_hour                     -0.042106          -0.013795   \n",
      "u_std_hour                      0.150258           0.155997   \n",
      "u_avg_days_since_prior         -0.356599          -0.289099   \n",
      "u_std_days_since_prior         -0.450827          -0.362859   \n",
      "u_orders_total                  0.807584           0.670323   \n",
      "u_products_total                1.000000           0.857214   \n",
      "u_products_unique               0.857214           1.000000   \n",
      "u_reordered_total               0.982930           0.747838   \n",
      "u_reordered_percentage          0.571657           0.372337   \n",
      "u_avg_order_size                0.424866           0.534631   \n",
      "u_avg_reordered_orders          0.529860           0.338308   \n",
      "orders_3                        0.360824           0.444999   \n",
      "orders_2                        0.358448           0.442461   \n",
      "orders_1                        0.347509           0.431934   \n",
      "reorder_3                       0.391467           0.295851   \n",
      "reorder_2                       0.336109           0.218726   \n",
      "reorder_1                       0.309713           0.187545   \n",
      "\n",
      "                        u_reordered_total  u_reordered_percentage  \\\n",
      "user_id                         -0.002071               -0.002306   \n",
      "u_mean_dow                      -0.006559               -0.012274   \n",
      "u_std_dow                        0.134868                0.160319   \n",
      "u_avg_hour                      -0.049353               -0.074130   \n",
      "u_std_hour                       0.137978                0.178011   \n",
      "u_avg_days_since_prior          -0.356436               -0.289170   \n",
      "u_std_days_since_prior          -0.451562               -0.460648   \n",
      "u_orders_total                   0.801641                0.636891   \n",
      "u_products_total                 0.982930                0.571657   \n",
      "u_products_unique                0.747838                0.372337   \n",
      "u_reordered_total                1.000000                0.603948   \n",
      "u_reordered_percentage           0.603948                1.000000   \n",
      "u_avg_order_size                 0.356723                0.109718   \n",
      "u_avg_reordered_orders           0.562222                0.962134   \n",
      "orders_3                         0.306184                0.116091   \n",
      "orders_2                         0.304028                0.112975   \n",
      "orders_1                         0.293686                0.100671   \n",
      "reorder_3                        0.398976                0.717034   \n",
      "reorder_2                        0.355163                0.689825   \n",
      "reorder_1                        0.332274                0.656845   \n",
      "\n",
      "                        u_avg_order_size  u_avg_reordered_orders  orders_3  \\\n",
      "user_id                        -0.002283               -0.003182 -0.002937   \n",
      "u_mean_dow                     -0.065106               -0.009476 -0.051339   \n",
      "u_std_dow                       0.036460                0.162050  0.038465   \n",
      "u_avg_hour                      0.025225               -0.064898  0.015851   \n",
      "u_std_hour                      0.010363                0.177122  0.016735   \n",
      "u_avg_days_since_prior          0.002132               -0.287335 -0.026102   \n",
      "u_std_days_since_prior         -0.086312               -0.412048 -0.089561   \n",
      "u_orders_total                  0.021919                0.613522  0.048747   \n",
      "u_products_total                0.424866                0.529860  0.360824   \n",
      "u_products_unique               0.534631                0.338308  0.444999   \n",
      "u_reordered_total               0.356723                0.562222  0.306184   \n",
      "u_reordered_percentage          0.109718                0.962134  0.116091   \n",
      "u_avg_order_size                1.000000                0.057048  0.782238   \n",
      "u_avg_reordered_orders          0.057048                1.000000  0.071041   \n",
      "orders_3                        0.782238                0.071041  1.000000   \n",
      "orders_2                        0.777471                0.054213  0.600474   \n",
      "orders_1                        0.768209                0.041585  0.579472   \n",
      "reorder_3                       0.051416                0.733309 -0.003513   \n",
      "reorder_2                       0.056193                0.714683  0.080263   \n",
      "reorder_1                       0.068296                0.670527  0.087292   \n",
      "\n",
      "                        orders_2  orders_1  reorder_3  reorder_2  reorder_1  \n",
      "user_id                 0.000372 -0.003534  -0.001962  -0.002351  -0.002727  \n",
      "u_mean_dow             -0.052054 -0.050249  -0.001954  -0.009598  -0.010348  \n",
      "u_std_dow               0.039088  0.037233   0.172476   0.115553   0.087470  \n",
      "u_avg_hour              0.015389  0.016798  -0.048053  -0.043701  -0.043188  \n",
      "u_std_hour              0.016179  0.016811   0.165513   0.121483   0.103670  \n",
      "u_avg_days_since_prior  0.020576  0.042908  -0.171353  -0.184311  -0.189574  \n",
      "u_std_days_since_prior -0.099651 -0.084657  -0.315593  -0.276240  -0.277027  \n",
      "u_orders_total          0.048497  0.040593   0.448579   0.377381   0.340563  \n",
      "u_products_total        0.358448  0.347509   0.391467   0.336109   0.309713  \n",
      "u_products_unique       0.442461  0.431934   0.295851   0.218726   0.187545  \n",
      "u_reordered_total       0.304028  0.293686   0.398976   0.355163   0.332274  \n",
      "u_reordered_percentage  0.112975  0.100671   0.717034   0.689825   0.656845  \n",
      "u_avg_order_size        0.777471  0.768209   0.051416   0.056193   0.068296  \n",
      "u_avg_reordered_orders  0.054213  0.041585   0.733309   0.714683   0.670527  \n",
      "orders_3                0.600474  0.579472  -0.003513   0.080263   0.087292  \n",
      "orders_2                1.000000  0.598840   0.034402  -0.023570   0.075912  \n",
      "orders_1                0.598840  1.000000   0.045003   0.025618  -0.023706  \n",
      "reorder_3               0.034402  0.045003   1.000000   0.512653   0.429513  \n",
      "reorder_2              -0.023570  0.025618   0.512653   1.000000   0.440247  \n",
      "reorder_1               0.075912 -0.023706   0.429513   0.440247   1.000000  \n"
     ]
    }
   ],
   "source": [
    "correlation_matrix = u_f.corr()\n",
    "print(correlation_matrix)"
   ]
  },
  {
   "cell_type": "code",
   "execution_count": null,
   "metadata": {},
   "outputs": [],
   "source": [
    "import seaborn as sns\n",
    "\n",
    "import matplotlib.pyplot as plt\n",
    "\n",
    "# 绘制相关性矩阵的热力图\n",
    "plt.figure(figsize=(10, 8))\n",
    "sns.heatmap(correlation_matrix, annot=True, fmt=\".2f\", cmap=\"coolwarm\", cbar=True)\n",
    "plt.title(\"Correlation Matrix Heatmap\")\n",
    "plt.show()"
   ]
  },
  {
   "cell_type": "code",
   "execution_count": 8,
   "metadata": {
    "execution": {
     "iopub.execute_input": "2025-04-14T10:06:01.934900Z",
     "iopub.status.busy": "2025-04-14T10:06:01.934531Z",
     "iopub.status.idle": "2025-04-14T10:06:01.961845Z",
     "shell.execute_reply": "2025-04-14T10:06:01.960730Z",
     "shell.execute_reply.started": "2025-04-14T10:06:01.934873Z"
    },
    "trusted": true
   },
   "outputs": [
    {
     "name": "stdout",
     "output_type": "stream",
     "text": [
      "Number of unique products: 49677\n",
      "Number of unique customers: 206209\n"
     ]
    }
   ],
   "source": [
    "# Number of unique products\n",
    "num_unique_products = prod_f1['product_id'].nunique()\n",
    "print(f\"Number of unique products: {num_unique_products}\")\n",
    "\n",
    "# Number of unique customers\n",
    "num_unique_customers = u_f['user_id'].nunique()\n",
    "print(f\"Number of unique customers: {num_unique_customers}\")"
   ]
  },
  {
   "cell_type": "code",
   "execution_count": 9,
   "metadata": {
    "execution": {
     "iopub.execute_input": "2025-04-14T10:06:01.963604Z",
     "iopub.status.busy": "2025-04-14T10:06:01.963085Z",
     "iopub.status.idle": "2025-04-14T10:06:01.981610Z",
     "shell.execute_reply": "2025-04-14T10:06:01.980439Z",
     "shell.execute_reply.started": "2025-04-14T10:06:01.963566Z"
    },
    "trusted": true
   },
   "outputs": [
    {
     "name": "stdout",
     "output_type": "stream",
     "text": [
      "Number of unique users: 206209\n",
      "Unique user IDs: [     1      2      3 ... 206207 206208 206209]\n"
     ]
    }
   ],
   "source": [
    "# Number of unique users\n",
    "num_unique_users = u_f['user_id'].nunique()\n",
    "print(f\"Number of unique users: {num_unique_users}\")\n",
    "\n",
    "# Display unique user IDs\n",
    "unique_user_ids = u_f['user_id'].unique()\n",
    "print(f\"Unique user IDs: {unique_user_ids}\")"
   ]
  },
  {
   "cell_type": "code",
   "execution_count": 10,
   "metadata": {
    "execution": {
     "iopub.execute_input": "2025-04-14T10:06:01.984573Z",
     "iopub.status.busy": "2025-04-14T10:06:01.984278Z",
     "iopub.status.idle": "2025-04-14T10:06:02.125145Z",
     "shell.execute_reply": "2025-04-14T10:06:02.124038Z",
     "shell.execute_reply.started": "2025-04-14T10:06:01.984549Z"
    },
    "trusted": true
   },
   "outputs": [],
   "source": [
    "cs= u_prod_f[['user_id', 'product_id', 'u_p_orders_total']]"
   ]
  },
  {
   "cell_type": "code",
   "execution_count": 11,
   "metadata": {
    "execution": {
     "iopub.execute_input": "2025-04-14T10:06:02.127269Z",
     "iopub.status.busy": "2025-04-14T10:06:02.126940Z",
     "iopub.status.idle": "2025-04-14T10:06:11.001944Z",
     "shell.execute_reply": "2025-04-14T10:06:11.001116Z",
     "shell.execute_reply.started": "2025-04-14T10:06:02.127243Z"
    },
    "trusted": true
   },
   "outputs": [],
   "source": [
    "# Step 1: Prepare the interaction matrix\n",
    "# Use the user-product interaction data (u_prod_f) to create the interaction matrix\n",
    "# Create index mappings for product_id\n",
    "unique_product_ids = u_prod_f['product_id'].unique()\n",
    "id_index = {product_id: idx for idx, product_id in enumerate(unique_product_ids)}\n",
    "index_id = {idx: product_id for product_id, idx in id_index.items()}\n",
    "\n",
    "# Map product_id to integer indices\n",
    "u_prod_f['product_id'] = u_prod_f['product_id'].map(id_index)\n",
    "u_prod_f = u_prod_f.sample(frac=1, random_state=42)\n",
    "interaction_data = u_prod_f[['user_id', 'product_id', 'u_p_orders_total']]\n",
    "# Create the interaction matrix\n",
    "interaction_matrix = csr_matrix(\n",
    "    (interaction_data['u_p_orders_total'], \n",
    "     (interaction_data['user_id'], interaction_data['product_id'])), shape=(num_unique_users + 1, num_unique_products + 1)\n",
    ")\n",
    "# Split the interaction matrix into train and test sets\n",
    "train_data, test_data = train_test_split(interaction_data, test_size=0.2, random_state=42)\n",
    "\n",
    "train_interaction_matrix = csr_matrix(\n",
    "    (train_data['u_p_orders_total'], \n",
    "     (train_data['user_id'], train_data['product_id'])), shape=(num_unique_users + 1, num_unique_products + 1)\n",
    ")\n",
    "\n",
    "test_interaction_matrix = csr_matrix(\n",
    "    (test_data['u_p_orders_total'], \n",
    "     (test_data['user_id'], test_data['product_id'])), shape=(num_unique_users + 1, num_unique_products + 1)\n",
    ")"
   ]
  },
  {
   "cell_type": "code",
   "execution_count": null,
   "metadata": {},
   "outputs": [],
   "source": [
    "# 将 train_interaction_matrix 转换为稀疏矩阵的 COO 格式\n",
    "train_coo = train_interaction_matrix.tocoo()\n",
    "\n",
    "# 创建 DataFrame 表示用户与产品的交互数据\n",
    "interaction_df = pd.DataFrame({\n",
    "    'user_id': train_coo.row,\n",
    "    'product_id': train_coo.col,\n",
    "    'interaction_value': train_coo.data\n",
    "})\n",
    "\n",
    "# 按 user_id 聚合交互数据，计算每个用户的总交互值\n",
    "user_interaction_summary = interaction_df.groupby('user_id')['interaction_value'].sum().reset_index()\n",
    "user_interaction_summary.rename(columns={'interaction_value': 'total_interaction'}, inplace=True)\n",
    "\n",
    "# 将用户交互数据与 u_f 合并\n",
    "u_f_with_interaction = pd.merge(u_f, user_interaction_summary, left_on='user_id', right_on='user_id', how='left')\n",
    "\n",
    "# 计算相关性矩阵\n",
    "correlation_matrix = u_f_with_interaction.corr()\n",
    "\n",
    "# 输出相关性矩阵\n",
    "print(correlation_matrix['total_interaction'].sort_values(ascending=False))\n",
    "u_f_with_interaction = u_f_with_interaction[['user_id', 'u_products_total']]\n",
    "print(u_f_with_interaction.head())"
   ]
  },
  {
   "cell_type": "code",
   "execution_count": 12,
   "metadata": {
    "execution": {
     "iopub.execute_input": "2025-04-14T10:06:11.003257Z",
     "iopub.status.busy": "2025-04-14T10:06:11.002934Z",
     "iopub.status.idle": "2025-04-14T10:06:11.125474Z",
     "shell.execute_reply": "2025-04-14T10:06:11.124412Z",
     "shell.execute_reply.started": "2025-04-14T10:06:11.003225Z"
    },
    "trusted": true
   },
   "outputs": [
    {
     "name": "stdout",
     "output_type": "stream",
     "text": [
      "  (1, 0)\t10\n",
      "  (1, 3)\t10\n",
      "  (1, 4)\t3\n",
      "  (1, 6)\t1\n",
      "  (1, 7)\t1\n",
      "  (1, 9)\t2\n",
      "  (1, 11)\t1\n",
      "  (1, 12)\t1\n",
      "  (1, 13)\t1\n",
      "  (1, 14)\t1\n",
      "  (1, 15)\t1\n",
      "  (1, 16)\t3\n",
      "  (1, 17)\t2\n",
      "  (2, 5)\t1\n",
      "  (2, 18)\t1\n",
      "  (2, 19)\t1\n",
      "  (2, 20)\t6\n",
      "  (2, 21)\t4\n",
      "  (2, 22)\t2\n",
      "  (2, 23)\t1\n",
      "  (2, 24)\t1\n",
      "  (2, 25)\t1\n",
      "  (2, 26)\t1\n",
      "  (2, 30)\t1\n",
      "  (2, 31)\t3\n",
      "  :\t:\n",
      "  (206209, 5214)\t1\n",
      "  (206209, 5221)\t2\n",
      "  (206209, 5276)\t1\n",
      "  (206209, 5307)\t2\n",
      "  (206209, 5742)\t1\n",
      "  (206209, 5823)\t1\n",
      "  (206209, 6367)\t1\n",
      "  (206209, 6372)\t1\n",
      "  (206209, 6754)\t1\n",
      "  (206209, 6941)\t10\n",
      "  (206209, 7204)\t1\n",
      "  (206209, 7368)\t1\n",
      "  (206209, 8519)\t2\n",
      "  (206209, 9174)\t3\n",
      "  (206209, 10175)\t1\n",
      "  (206209, 11550)\t2\n",
      "  (206209, 11690)\t3\n",
      "  (206209, 12001)\t4\n",
      "  (206209, 13042)\t2\n",
      "  (206209, 13164)\t1\n",
      "  (206209, 13910)\t1\n",
      "  (206209, 19457)\t1\n",
      "  (206209, 22799)\t2\n",
      "  (206209, 23026)\t1\n",
      "  (206209, 23954)\t1\n"
     ]
    }
   ],
   "source": [
    "print(train_interaction_matrix)"
   ]
  },
  {
   "cell_type": "code",
   "execution_count": 13,
   "metadata": {
    "execution": {
     "iopub.execute_input": "2025-04-14T10:06:11.126623Z",
     "iopub.status.busy": "2025-04-14T10:06:11.126370Z",
     "iopub.status.idle": "2025-04-14T10:06:11.132364Z",
     "shell.execute_reply": "2025-04-14T10:06:11.131299Z",
     "shell.execute_reply.started": "2025-04-14T10:06:11.126602Z"
    },
    "trusted": true
   },
   "outputs": [
    {
     "name": "stdout",
     "output_type": "stream",
     "text": [
      "Train Interaction Matrix Shape: (206210, 49678)\n",
      "Test Interaction Matrix Shape: (206210, 49678)\n"
     ]
    }
   ],
   "source": [
    "# Check the shape of the interaction matrix\n",
    "print(\"Train Interaction Matrix Shape:\", train_interaction_matrix.shape)\n",
    "print(\"Test Interaction Matrix Shape:\", test_interaction_matrix.shape)"
   ]
  },
  {
   "cell_type": "code",
   "execution_count": 14,
   "metadata": {
    "execution": {
     "iopub.execute_input": "2025-04-14T10:06:11.133868Z",
     "iopub.status.busy": "2025-04-14T10:06:11.133494Z",
     "iopub.status.idle": "2025-04-14T10:06:44.616050Z",
     "shell.execute_reply": "2025-04-14T10:06:44.615251Z",
     "shell.execute_reply.started": "2025-04-14T10:06:11.133833Z"
    },
    "trusted": true
   },
   "outputs": [
    {
     "data": {
      "text/plain": [
       "<lightfm.lightfm.LightFM at 0x79e2fe478b80>"
      ]
     },
     "execution_count": 14,
     "metadata": {},
     "output_type": "execute_result"
    }
   ],
   "source": [
    "# Initialize the LightFM model\n",
    "model = LightFM(loss='warp')\n",
    "\n",
    "# Fit the model using the training interaction matrix\n",
    "model.fit(train_interaction_matrix, epochs=5, num_threads=4)"
   ]
  },
  {
   "cell_type": "code",
   "execution_count": 15,
   "metadata": {
    "execution": {
     "iopub.execute_input": "2025-04-14T10:06:44.616874Z",
     "iopub.status.busy": "2025-04-14T10:06:44.616631Z",
     "iopub.status.idle": "2025-04-14T10:11:03.276297Z",
     "shell.execute_reply": "2025-04-14T10:11:03.275371Z",
     "shell.execute_reply.started": "2025-04-14T10:06:44.616852Z"
    },
    "trusted": true
   },
   "outputs": [
    {
     "name": "stdout",
     "output_type": "stream",
     "text": [
      "Evaluation Time: 258.65 seconds\n",
      "AUC Score: 0.9522\n"
     ]
    }
   ],
   "source": [
    "import time\n",
    "start = time.time()\n",
    "\n",
    "auc = auc_score(\n",
    "    model=model,\n",
    "    test_interactions=test_interaction_matrix,\n",
    "    train_interactions=train_interaction_matrix,\n",
    "    num_threads=4,\n",
    "    check_intersections=False \n",
    ")\n",
    "\n",
    "end = time.time()\n",
    "\n",
    "print(\"Evaluation Time: {:.2f} seconds\".format(end - start))\n",
    "print(\"AUC Score: {:.4f}\".format(auc.mean()))"
   ]
  },
  {
   "cell_type": "code",
   "execution_count": 16,
   "metadata": {
    "execution": {
     "iopub.execute_input": "2025-04-14T10:11:03.277525Z",
     "iopub.status.busy": "2025-04-14T10:11:03.277251Z",
     "iopub.status.idle": "2025-04-14T10:11:03.322696Z",
     "shell.execute_reply": "2025-04-14T10:11:03.321565Z",
     "shell.execute_reply.started": "2025-04-14T10:11:03.277502Z"
    },
    "trusted": true
   },
   "outputs": [],
   "source": [
    "pickle.dump(model, open( \"model.p\", \"wb\" ) )"
   ]
  },
  {
   "cell_type": "code",
   "execution_count": 17,
   "metadata": {
    "execution": {
     "iopub.execute_input": "2025-04-14T10:11:03.323696Z",
     "iopub.status.busy": "2025-04-14T10:11:03.323439Z",
     "iopub.status.idle": "2025-04-14T10:14:34.741528Z",
     "shell.execute_reply": "2025-04-14T10:14:34.740166Z",
     "shell.execute_reply.started": "2025-04-14T10:11:03.323675Z"
    },
    "trusted": true
   },
   "outputs": [
    {
     "name": "stdout",
     "output_type": "stream",
     "text": [
      "Precision at k score = 0.95\n",
      "time taken for precision at k evaluation = 211.40 seconds\n"
     ]
    }
   ],
   "source": [
    "#precision evaluation\n",
    "start = time.time()\n",
    "model=precision_at_k(model = model, \n",
    "                        test_interactions = test_interaction_matrix,k=10,\n",
    "                        num_threads = 4, check_intersections = False)\n",
    "end = time.time()\n",
    "pickle.dump(model, open( \"model.p\", \"wb\" ) )\n",
    "print(\"Precision at k score = {0:.{1}f}\".format(auc.mean(), 2))\n",
    "print(\"time taken for precision at k evaluation = {0:.{1}f} seconds\".format(end - start, 2))"
   ]
  },
  {
   "cell_type": "code",
   "execution_count": 18,
   "metadata": {
    "execution": {
     "iopub.execute_input": "2025-04-14T10:14:34.742999Z",
     "iopub.status.busy": "2025-04-14T10:14:34.742626Z",
     "iopub.status.idle": "2025-04-14T10:14:34.787179Z",
     "shell.execute_reply": "2025-04-14T10:14:34.786160Z",
     "shell.execute_reply.started": "2025-04-14T10:14:34.742963Z"
    },
    "trusted": true
   },
   "outputs": [
    {
     "data": {
      "text/html": [
       "<div>\n",
       "<style scoped>\n",
       "    .dataframe tbody tr th:only-of-type {\n",
       "        vertical-align: middle;\n",
       "    }\n",
       "\n",
       "    .dataframe tbody tr th {\n",
       "        vertical-align: top;\n",
       "    }\n",
       "\n",
       "    .dataframe thead th {\n",
       "        text-align: right;\n",
       "    }\n",
       "</style>\n",
       "<table border=\"1\" class=\"dataframe\">\n",
       "  <thead>\n",
       "    <tr style=\"text-align: right;\">\n",
       "      <th></th>\n",
       "      <th>product_id</th>\n",
       "      <th>p_users_unique</th>\n",
       "      <th>p_users_total</th>\n",
       "      <th>p_reordered_total</th>\n",
       "      <th>p_reordered_percentage</th>\n",
       "      <th>p_avg_cart</th>\n",
       "      <th>p_order_first_cnt</th>\n",
       "      <th>p_order_second_cnt</th>\n",
       "      <th>p_order_second_percent</th>\n",
       "      <th>product_name</th>\n",
       "      <th>...</th>\n",
       "      <th>a_users_total</th>\n",
       "      <th>a_reordered_total</th>\n",
       "      <th>a_reordered_percentage</th>\n",
       "      <th>a_avg_cart</th>\n",
       "      <th>d_users_unique</th>\n",
       "      <th>d_users_total</th>\n",
       "      <th>d_reordered_total</th>\n",
       "      <th>d_reordered_percentage</th>\n",
       "      <th>d_avg_cart</th>\n",
       "      <th>department</th>\n",
       "    </tr>\n",
       "  </thead>\n",
       "  <tbody>\n",
       "    <tr>\n",
       "      <th>0</th>\n",
       "      <td>1</td>\n",
       "      <td>716</td>\n",
       "      <td>1852</td>\n",
       "      <td>1136</td>\n",
       "      <td>0.613391</td>\n",
       "      <td>5.801836</td>\n",
       "      <td>716</td>\n",
       "      <td>276</td>\n",
       "      <td>0.385475</td>\n",
       "      <td>Chocolate Sandwich Cookies</td>\n",
       "      <td>...</td>\n",
       "      <td>234065</td>\n",
       "      <td>128431</td>\n",
       "      <td>0.548698</td>\n",
       "      <td>9.253092</td>\n",
       "      <td>174219</td>\n",
       "      <td>2887550</td>\n",
       "      <td>1657973</td>\n",
       "      <td>0.574180</td>\n",
       "      <td>9.187743</td>\n",
       "      <td>snacks</td>\n",
       "    </tr>\n",
       "    <tr>\n",
       "      <th>1</th>\n",
       "      <td>2</td>\n",
       "      <td>78</td>\n",
       "      <td>90</td>\n",
       "      <td>12</td>\n",
       "      <td>0.133333</td>\n",
       "      <td>9.888889</td>\n",
       "      <td>78</td>\n",
       "      <td>8</td>\n",
       "      <td>0.102564</td>\n",
       "      <td>All-Seasons Salt</td>\n",
       "      <td>...</td>\n",
       "      <td>212092</td>\n",
       "      <td>32321</td>\n",
       "      <td>0.152391</td>\n",
       "      <td>9.996181</td>\n",
       "      <td>172755</td>\n",
       "      <td>1875577</td>\n",
       "      <td>650301</td>\n",
       "      <td>0.346721</td>\n",
       "      <td>9.593425</td>\n",
       "      <td>pantry</td>\n",
       "    </tr>\n",
       "    <tr>\n",
       "      <th>2</th>\n",
       "      <td>3</td>\n",
       "      <td>74</td>\n",
       "      <td>277</td>\n",
       "      <td>203</td>\n",
       "      <td>0.732852</td>\n",
       "      <td>6.415162</td>\n",
       "      <td>74</td>\n",
       "      <td>36</td>\n",
       "      <td>0.486486</td>\n",
       "      <td>Robust Golden Unsweetened Oolong Tea</td>\n",
       "      <td>...</td>\n",
       "      <td>249341</td>\n",
       "      <td>131556</td>\n",
       "      <td>0.527615</td>\n",
       "      <td>8.519846</td>\n",
       "      <td>172795</td>\n",
       "      <td>2690129</td>\n",
       "      <td>1757892</td>\n",
       "      <td>0.653460</td>\n",
       "      <td>6.976699</td>\n",
       "      <td>beverages</td>\n",
       "    </tr>\n",
       "    <tr>\n",
       "      <th>3</th>\n",
       "      <td>4</td>\n",
       "      <td>182</td>\n",
       "      <td>329</td>\n",
       "      <td>147</td>\n",
       "      <td>0.446809</td>\n",
       "      <td>9.507599</td>\n",
       "      <td>182</td>\n",
       "      <td>64</td>\n",
       "      <td>0.351648</td>\n",
       "      <td>Smart Ones Classic Favorites Mini Rigatoni Wit...</td>\n",
       "      <td>...</td>\n",
       "      <td>390299</td>\n",
       "      <td>217262</td>\n",
       "      <td>0.556655</td>\n",
       "      <td>9.207741</td>\n",
       "      <td>163233</td>\n",
       "      <td>2236432</td>\n",
       "      <td>1211890</td>\n",
       "      <td>0.541885</td>\n",
       "      <td>8.996414</td>\n",
       "      <td>frozen</td>\n",
       "    </tr>\n",
       "    <tr>\n",
       "      <th>4</th>\n",
       "      <td>5</td>\n",
       "      <td>6</td>\n",
       "      <td>15</td>\n",
       "      <td>9</td>\n",
       "      <td>0.600000</td>\n",
       "      <td>6.466667</td>\n",
       "      <td>6</td>\n",
       "      <td>4</td>\n",
       "      <td>0.666667</td>\n",
       "      <td>Green Chile Anytime Sauce</td>\n",
       "      <td>...</td>\n",
       "      <td>62510</td>\n",
       "      <td>17542</td>\n",
       "      <td>0.280627</td>\n",
       "      <td>10.297600</td>\n",
       "      <td>172755</td>\n",
       "      <td>1875577</td>\n",
       "      <td>650301</td>\n",
       "      <td>0.346721</td>\n",
       "      <td>9.593425</td>\n",
       "      <td>pantry</td>\n",
       "    </tr>\n",
       "    <tr>\n",
       "      <th>...</th>\n",
       "      <td>...</td>\n",
       "      <td>...</td>\n",
       "      <td>...</td>\n",
       "      <td>...</td>\n",
       "      <td>...</td>\n",
       "      <td>...</td>\n",
       "      <td>...</td>\n",
       "      <td>...</td>\n",
       "      <td>...</td>\n",
       "      <td>...</td>\n",
       "      <td>...</td>\n",
       "      <td>...</td>\n",
       "      <td>...</td>\n",
       "      <td>...</td>\n",
       "      <td>...</td>\n",
       "      <td>...</td>\n",
       "      <td>...</td>\n",
       "      <td>...</td>\n",
       "      <td>...</td>\n",
       "      <td>...</td>\n",
       "      <td>...</td>\n",
       "    </tr>\n",
       "    <tr>\n",
       "      <th>49672</th>\n",
       "      <td>49684</td>\n",
       "      <td>8</td>\n",
       "      <td>9</td>\n",
       "      <td>1</td>\n",
       "      <td>0.111111</td>\n",
       "      <td>4.333333</td>\n",
       "      <td>8</td>\n",
       "      <td>1</td>\n",
       "      <td>0.125000</td>\n",
       "      <td>Vodka, Triple Distilled, Twist of Vanilla</td>\n",
       "      <td>...</td>\n",
       "      <td>28102</td>\n",
       "      <td>16084</td>\n",
       "      <td>0.572344</td>\n",
       "      <td>4.852751</td>\n",
       "      <td>15798</td>\n",
       "      <td>153696</td>\n",
       "      <td>87595</td>\n",
       "      <td>0.569924</td>\n",
       "      <td>5.428346</td>\n",
       "      <td>alcohol</td>\n",
       "    </tr>\n",
       "    <tr>\n",
       "      <th>49673</th>\n",
       "      <td>49685</td>\n",
       "      <td>43</td>\n",
       "      <td>49</td>\n",
       "      <td>6</td>\n",
       "      <td>0.122449</td>\n",
       "      <td>9.571429</td>\n",
       "      <td>43</td>\n",
       "      <td>6</td>\n",
       "      <td>0.139535</td>\n",
       "      <td>En Croute Roast Hazelnut Cranberry</td>\n",
       "      <td>...</td>\n",
       "      <td>99369</td>\n",
       "      <td>53875</td>\n",
       "      <td>0.542171</td>\n",
       "      <td>9.294961</td>\n",
       "      <td>163233</td>\n",
       "      <td>2236432</td>\n",
       "      <td>1211890</td>\n",
       "      <td>0.541885</td>\n",
       "      <td>8.996414</td>\n",
       "      <td>frozen</td>\n",
       "    </tr>\n",
       "    <tr>\n",
       "      <th>49674</th>\n",
       "      <td>49686</td>\n",
       "      <td>36</td>\n",
       "      <td>120</td>\n",
       "      <td>84</td>\n",
       "      <td>0.700000</td>\n",
       "      <td>7.500000</td>\n",
       "      <td>36</td>\n",
       "      <td>16</td>\n",
       "      <td>0.444444</td>\n",
       "      <td>Artisan Baguette</td>\n",
       "      <td>...</td>\n",
       "      <td>584834</td>\n",
       "      <td>391937</td>\n",
       "      <td>0.670168</td>\n",
       "      <td>7.515117</td>\n",
       "      <td>140612</td>\n",
       "      <td>1176787</td>\n",
       "      <td>739188</td>\n",
       "      <td>0.628141</td>\n",
       "      <td>8.084397</td>\n",
       "      <td>bakery</td>\n",
       "    </tr>\n",
       "    <tr>\n",
       "      <th>49675</th>\n",
       "      <td>49687</td>\n",
       "      <td>7</td>\n",
       "      <td>13</td>\n",
       "      <td>6</td>\n",
       "      <td>0.461538</td>\n",
       "      <td>7.538462</td>\n",
       "      <td>7</td>\n",
       "      <td>4</td>\n",
       "      <td>0.571429</td>\n",
       "      <td>Smartblend Healthy Metabolism Dry Cat Food</td>\n",
       "      <td>...</td>\n",
       "      <td>63421</td>\n",
       "      <td>39377</td>\n",
       "      <td>0.620883</td>\n",
       "      <td>7.512244</td>\n",
       "      <td>14986</td>\n",
       "      <td>97724</td>\n",
       "      <td>58760</td>\n",
       "      <td>0.601285</td>\n",
       "      <td>7.718544</td>\n",
       "      <td>pets</td>\n",
       "    </tr>\n",
       "    <tr>\n",
       "      <th>49676</th>\n",
       "      <td>49688</td>\n",
       "      <td>74</td>\n",
       "      <td>89</td>\n",
       "      <td>15</td>\n",
       "      <td>0.168539</td>\n",
       "      <td>10.000000</td>\n",
       "      <td>74</td>\n",
       "      <td>11</td>\n",
       "      <td>0.148649</td>\n",
       "      <td>Fresh Foaming Cleanser</td>\n",
       "      <td>...</td>\n",
       "      <td>12169</td>\n",
       "      <td>3856</td>\n",
       "      <td>0.316871</td>\n",
       "      <td>8.018161</td>\n",
       "      <td>93969</td>\n",
       "      <td>447123</td>\n",
       "      <td>143584</td>\n",
       "      <td>0.321129</td>\n",
       "      <td>8.752753</td>\n",
       "      <td>personal care</td>\n",
       "    </tr>\n",
       "  </tbody>\n",
       "</table>\n",
       "<p>49677 rows × 24 columns</p>\n",
       "</div>"
      ],
      "text/plain": [
       "       product_id  p_users_unique  p_users_total  p_reordered_total  \\\n",
       "0               1             716           1852               1136   \n",
       "1               2              78             90                 12   \n",
       "2               3              74            277                203   \n",
       "3               4             182            329                147   \n",
       "4               5               6             15                  9   \n",
       "...           ...             ...            ...                ...   \n",
       "49672       49684               8              9                  1   \n",
       "49673       49685              43             49                  6   \n",
       "49674       49686              36            120                 84   \n",
       "49675       49687               7             13                  6   \n",
       "49676       49688              74             89                 15   \n",
       "\n",
       "       p_reordered_percentage  p_avg_cart  p_order_first_cnt  \\\n",
       "0                    0.613391    5.801836                716   \n",
       "1                    0.133333    9.888889                 78   \n",
       "2                    0.732852    6.415162                 74   \n",
       "3                    0.446809    9.507599                182   \n",
       "4                    0.600000    6.466667                  6   \n",
       "...                       ...         ...                ...   \n",
       "49672                0.111111    4.333333                  8   \n",
       "49673                0.122449    9.571429                 43   \n",
       "49674                0.700000    7.500000                 36   \n",
       "49675                0.461538    7.538462                  7   \n",
       "49676                0.168539   10.000000                 74   \n",
       "\n",
       "       p_order_second_cnt  p_order_second_percent  \\\n",
       "0                     276                0.385475   \n",
       "1                       8                0.102564   \n",
       "2                      36                0.486486   \n",
       "3                      64                0.351648   \n",
       "4                       4                0.666667   \n",
       "...                   ...                     ...   \n",
       "49672                   1                0.125000   \n",
       "49673                   6                0.139535   \n",
       "49674                  16                0.444444   \n",
       "49675                   4                0.571429   \n",
       "49676                  11                0.148649   \n",
       "\n",
       "                                            product_name  ...  a_users_total  \\\n",
       "0                             Chocolate Sandwich Cookies  ...         234065   \n",
       "1                                       All-Seasons Salt  ...         212092   \n",
       "2                   Robust Golden Unsweetened Oolong Tea  ...         249341   \n",
       "3      Smart Ones Classic Favorites Mini Rigatoni Wit...  ...         390299   \n",
       "4                              Green Chile Anytime Sauce  ...          62510   \n",
       "...                                                  ...  ...            ...   \n",
       "49672          Vodka, Triple Distilled, Twist of Vanilla  ...          28102   \n",
       "49673                 En Croute Roast Hazelnut Cranberry  ...          99369   \n",
       "49674                                   Artisan Baguette  ...         584834   \n",
       "49675         Smartblend Healthy Metabolism Dry Cat Food  ...          63421   \n",
       "49676                             Fresh Foaming Cleanser  ...          12169   \n",
       "\n",
       "       a_reordered_total a_reordered_percentage  a_avg_cart  d_users_unique  \\\n",
       "0                 128431               0.548698    9.253092          174219   \n",
       "1                  32321               0.152391    9.996181          172755   \n",
       "2                 131556               0.527615    8.519846          172795   \n",
       "3                 217262               0.556655    9.207741          163233   \n",
       "4                  17542               0.280627   10.297600          172755   \n",
       "...                  ...                    ...         ...             ...   \n",
       "49672              16084               0.572344    4.852751           15798   \n",
       "49673              53875               0.542171    9.294961          163233   \n",
       "49674             391937               0.670168    7.515117          140612   \n",
       "49675              39377               0.620883    7.512244           14986   \n",
       "49676               3856               0.316871    8.018161           93969   \n",
       "\n",
       "       d_users_total  d_reordered_total  d_reordered_percentage  d_avg_cart  \\\n",
       "0            2887550            1657973                0.574180    9.187743   \n",
       "1            1875577             650301                0.346721    9.593425   \n",
       "2            2690129            1757892                0.653460    6.976699   \n",
       "3            2236432            1211890                0.541885    8.996414   \n",
       "4            1875577             650301                0.346721    9.593425   \n",
       "...              ...                ...                     ...         ...   \n",
       "49672         153696              87595                0.569924    5.428346   \n",
       "49673        2236432            1211890                0.541885    8.996414   \n",
       "49674        1176787             739188                0.628141    8.084397   \n",
       "49675          97724              58760                0.601285    7.718544   \n",
       "49676         447123             143584                0.321129    8.752753   \n",
       "\n",
       "          department  \n",
       "0             snacks  \n",
       "1             pantry  \n",
       "2          beverages  \n",
       "3             frozen  \n",
       "4             pantry  \n",
       "...              ...  \n",
       "49672        alcohol  \n",
       "49673         frozen  \n",
       "49674         bakery  \n",
       "49675           pets  \n",
       "49676  personal care  \n",
       "\n",
       "[49677 rows x 24 columns]"
      ]
     },
     "execution_count": 18,
     "metadata": {},
     "output_type": "execute_result"
    }
   ],
   "source": [
    "prod_f1"
   ]
  },
  {
   "cell_type": "code",
   "execution_count": 19,
   "metadata": {
    "execution": {
     "iopub.execute_input": "2025-04-14T10:14:34.788469Z",
     "iopub.status.busy": "2025-04-14T10:14:34.788137Z",
     "iopub.status.idle": "2025-04-14T10:14:34.802307Z",
     "shell.execute_reply": "2025-04-14T10:14:34.801273Z",
     "shell.execute_reply.started": "2025-04-14T10:14:34.788435Z"
    },
    "trusted": true
   },
   "outputs": [
    {
     "name": "stdout",
     "output_type": "stream",
     "text": [
      "        user_id  u_mean_dow  u_std_dow  u_avg_hour  u_std_hour  \\\n",
      "0             1    2.644068   1.256194   10.542373    3.500355   \n",
      "1             2    2.005128   0.971222   10.441026    1.649854   \n",
      "2             3    1.011364   1.245630   16.352273    1.454599   \n",
      "3             4    4.722222   0.826442   13.111111    1.745208   \n",
      "4             5    1.621622   1.276961   15.729730    2.588958   \n",
      "...         ...         ...        ...         ...         ...   \n",
      "206204   206205    3.718750   1.084625   13.625000    1.791557   \n",
      "206205   206206    2.312281   1.929394   16.796491    2.282972   \n",
      "206206   206207    2.896861   2.051837   13.130045    4.499864   \n",
      "206207   206208    2.760709   1.734285   13.968981    3.802901   \n",
      "206208   206209    2.658915   1.538547   12.922481    2.737507   \n",
      "\n",
      "        u_avg_days_since_prior  u_std_days_since_prior  u_orders_total  \\\n",
      "0                    18.542374               10.559065              10   \n",
      "1                    14.902564                9.671712              14   \n",
      "2                    10.181818                5.867396              12   \n",
      "3                    11.944445                9.973330               5   \n",
      "4                    10.189189                7.600577               4   \n",
      "...                        ...                     ...             ...   \n",
      "206204                9.687500               12.568361               3   \n",
      "206205                3.985965                3.462040              67   \n",
      "206206               13.278027               11.624137              16   \n",
      "206207                7.310192                4.106003              49   \n",
      "206208               18.232557               10.919815              13   \n",
      "\n",
      "        u_products_total  u_products_unique  u_reordered_total  \\\n",
      "0                     59                 18                 41   \n",
      "1                    195                102                 93   \n",
      "2                     88                 33                 55   \n",
      "3                     18                 17                  1   \n",
      "4                     37                 23                 14   \n",
      "...                  ...                ...                ...   \n",
      "206204                32                 24                  8   \n",
      "206205               285                150                135   \n",
      "206206               223                 92                131   \n",
      "206207               677                198                479   \n",
      "206208               129                 68                 61   \n",
      "\n",
      "        u_reordered_percentage  u_avg_order_size  u_avg_reordered_orders  \\\n",
      "0                     0.694915          5.900000                0.705833   \n",
      "1                     0.476923         13.928571                0.447961   \n",
      "2                     0.625000          7.333333                0.658817   \n",
      "3                     0.055556          3.600000                0.028571   \n",
      "4                     0.378378          9.250000                0.377778   \n",
      "...                        ...               ...                     ...   \n",
      "206204                0.250000         10.666667                0.369048   \n",
      "206205                0.473684          4.253731                0.570676   \n",
      "206206                0.587444         13.937500                0.637144   \n",
      "206207                0.707533         13.816327                0.700368   \n",
      "206208                0.472868          9.923077                0.536752   \n",
      "\n",
      "        orders_3  orders_2  orders_1  reorder_3  reorder_2  reorder_1  \n",
      "0            6.0       6.0       9.0   0.666667   1.000000   0.666667  \n",
      "1           19.0       9.0      16.0   0.578947   0.000000   0.625000  \n",
      "2            6.0       5.0       6.0   0.833333   1.000000   1.000000  \n",
      "3            7.0       2.0       3.0   0.142857   0.000000   0.000000  \n",
      "4            9.0       5.0      12.0   0.444444   0.400000   0.666667  \n",
      "...          ...       ...       ...        ...        ...        ...  \n",
      "206204      17.0       8.0       7.0   0.000000   0.250000   0.857143  \n",
      "206205       8.0       3.0       3.0   0.500000   0.333333   1.000000  \n",
      "206206       8.0      22.0      13.0   1.000000   0.681818   1.000000  \n",
      "206207      23.0       8.0      17.0   1.000000   0.875000   0.823529  \n",
      "206208       8.0      20.0       9.0   0.750000   0.700000   0.444444  \n",
      "\n",
      "[206209 rows x 20 columns]\n"
     ]
    }
   ],
   "source": [
    "print(u_f)"
   ]
  },
  {
   "cell_type": "code",
   "execution_count": 20,
   "metadata": {
    "execution": {
     "iopub.execute_input": "2025-04-14T10:14:34.803633Z",
     "iopub.status.busy": "2025-04-14T10:14:34.803305Z",
     "iopub.status.idle": "2025-04-14T10:14:34.822066Z",
     "shell.execute_reply": "2025-04-14T10:14:34.820977Z",
     "shell.execute_reply.started": "2025-04-14T10:14:34.803607Z"
    },
    "trusted": true
   },
   "outputs": [
    {
     "name": "stdout",
     "output_type": "stream",
     "text": [
      "user_id                     int32\n",
      "u_mean_dow                float64\n",
      "u_std_dow                 float64\n",
      "u_avg_hour                float64\n",
      "u_std_hour                float64\n",
      "u_avg_days_since_prior    float32\n",
      "u_std_days_since_prior    float64\n",
      "u_orders_total              int64\n",
      "u_products_total            int64\n",
      "u_products_unique           int64\n",
      "u_reordered_total           int64\n",
      "u_reordered_percentage    float64\n",
      "u_avg_order_size          float64\n",
      "u_avg_reordered_orders    float64\n",
      "orders_3                  float64\n",
      "orders_2                  float64\n",
      "orders_1                  float64\n",
      "reorder_3                 float64\n",
      "reorder_2                 float64\n",
      "reorder_1                 float64\n",
      "dtype: object\n",
      "(206209, 20)\n"
     ]
    }
   ],
   "source": [
    "print(u_f.dtypes)\n",
    "print(u_f.shape)"
   ]
  },
  {
   "cell_type": "code",
   "execution_count": 21,
   "metadata": {
    "execution": {
     "iopub.execute_input": "2025-04-14T10:14:34.823233Z",
     "iopub.status.busy": "2025-04-14T10:14:34.822890Z",
     "iopub.status.idle": "2025-04-14T10:14:34.846096Z",
     "shell.execute_reply": "2025-04-14T10:14:34.844792Z",
     "shell.execute_reply.started": "2025-04-14T10:14:34.823207Z"
    },
    "trusted": true
   },
   "outputs": [
    {
     "name": "stdout",
     "output_type": "stream",
     "text": [
      "product_id                  int32\n",
      "p_users_unique              int64\n",
      "p_users_total               int64\n",
      "p_reordered_total           int64\n",
      "p_reordered_percentage    float64\n",
      "p_avg_cart                float64\n",
      "p_order_first_cnt           int64\n",
      "p_order_second_cnt          int64\n",
      "p_order_second_percent    float64\n",
      "product_name               object\n",
      "aisle_id                    int16\n",
      "department_id                int8\n",
      "aisle                      object\n",
      "a_users_unique              int64\n",
      "a_users_total               int64\n",
      "a_reordered_total           int64\n",
      "a_reordered_percentage    float64\n",
      "a_avg_cart                float64\n",
      "d_users_unique              int64\n",
      "d_users_total               int64\n",
      "d_reordered_total           int64\n",
      "d_reordered_percentage    float64\n",
      "d_avg_cart                float64\n",
      "department                 object\n",
      "dtype: object\n",
      "(49677, 24)\n"
     ]
    }
   ],
   "source": [
    "print(prod_f1.dtypes)\n",
    "print(prod_f1.shape)\n",
    "prod_f1=prod_f1.drop(columns =['department','aisle','product_name'])"
   ]
  },
  {
   "cell_type": "code",
   "execution_count": 3,
   "metadata": {},
   "outputs": [
    {
     "name": "stdout",
     "output_type": "stream",
     "text": [
      "user_id                       int32\n",
      "product_id                    int32\n",
      "u_p_avg_cart                float64\n",
      "u_p_avg_days_since_prior    float32\n",
      "u_p_orders_total              int64\n",
      "u_p_reordered_total            int8\n",
      "u_p_reordered_percentage    float64\n",
      "u_p_last_order                 int8\n",
      "is_reorder_3                float64\n",
      "is_reorder_2                float64\n",
      "is_reorder_1                float64\n",
      "dtype: object\n"
     ]
    }
   ],
   "source": [
    "print(u_prod_f.dtypes)"
   ]
  },
  {
   "cell_type": "code",
   "execution_count": 22,
   "metadata": {
    "execution": {
     "iopub.execute_input": "2025-04-14T10:14:34.847577Z",
     "iopub.status.busy": "2025-04-14T10:14:34.847198Z",
     "iopub.status.idle": "2025-04-14T10:14:34.869639Z",
     "shell.execute_reply": "2025-04-14T10:14:34.868456Z",
     "shell.execute_reply.started": "2025-04-14T10:14:34.847542Z"
    },
    "trusted": true
   },
   "outputs": [],
   "source": [
    "user_features_col = u_f.drop(columns =['user_id']).columns.values"
   ]
  },
  {
   "cell_type": "code",
   "execution_count": 23,
   "metadata": {
    "execution": {
     "iopub.execute_input": "2025-04-14T10:14:34.871380Z",
     "iopub.status.busy": "2025-04-14T10:14:34.870946Z",
     "iopub.status.idle": "2025-04-14T10:14:34.877607Z",
     "shell.execute_reply": "2025-04-14T10:14:34.876551Z",
     "shell.execute_reply.started": "2025-04-14T10:14:34.871342Z"
    },
    "trusted": true
   },
   "outputs": [
    {
     "name": "stdout",
     "output_type": "stream",
     "text": [
      "['u_mean_dow' 'u_std_dow' 'u_avg_hour' 'u_std_hour'\n",
      " 'u_avg_days_since_prior' 'u_std_days_since_prior' 'u_orders_total'\n",
      " 'u_products_total' 'u_products_unique' 'u_reordered_total'\n",
      " 'u_reordered_percentage' 'u_avg_order_size' 'u_avg_reordered_orders'\n",
      " 'orders_3' 'orders_2' 'orders_1' 'reorder_3' 'reorder_2' 'reorder_1']\n"
     ]
    }
   ],
   "source": [
    "print(user_features_col)"
   ]
  },
  {
   "cell_type": "code",
   "execution_count": 24,
   "metadata": {
    "execution": {
     "iopub.execute_input": "2025-04-14T10:14:34.879071Z",
     "iopub.status.busy": "2025-04-14T10:14:34.878748Z",
     "iopub.status.idle": "2025-04-14T10:14:35.724379Z",
     "shell.execute_reply": "2025-04-14T10:14:35.722738Z",
     "shell.execute_reply.started": "2025-04-14T10:14:34.879031Z"
    },
    "trusted": true
   },
   "outputs": [],
   "source": [
    "user_feat = u_f.drop(columns =['user_id']).to_dict(orient='records')"
   ]
  },
  {
   "cell_type": "code",
   "execution_count": 25,
   "metadata": {
    "execution": {
     "iopub.execute_input": "2025-04-14T10:14:35.730248Z",
     "iopub.status.busy": "2025-04-14T10:14:35.729924Z",
     "iopub.status.idle": "2025-04-14T10:14:35.738345Z",
     "shell.execute_reply": "2025-04-14T10:14:35.737225Z",
     "shell.execute_reply.started": "2025-04-14T10:14:35.730222Z"
    },
    "trusted": true
   },
   "outputs": [
    {
     "data": {
      "text/plain": [
       "[{'u_mean_dow': 2.6440677966101696,\n",
       "  'u_std_dow': 1.256194470234808,\n",
       "  'u_avg_hour': 10.542372881355933,\n",
       "  'u_std_hour': 3.5003548288034687,\n",
       "  'u_avg_days_since_prior': 18.542373657226562,\n",
       "  'u_std_days_since_prior': 10.559065452864308,\n",
       "  'u_orders_total': 10,\n",
       "  'u_products_total': 59,\n",
       "  'u_products_unique': 18,\n",
       "  'u_reordered_total': 41,\n",
       "  'u_reordered_percentage': 0.6949152542372882,\n",
       "  'u_avg_order_size': 5.9,\n",
       "  'u_avg_reordered_orders': 0.7058333333333333,\n",
       "  'orders_3': 6.0,\n",
       "  'orders_2': 6.0,\n",
       "  'orders_1': 9.0,\n",
       "  'reorder_3': 0.6666666666666666,\n",
       "  'reorder_2': 1.0,\n",
       "  'reorder_1': 0.6666666666666666},\n",
       " {'u_mean_dow': 2.005128205128205,\n",
       "  'u_std_dow': 0.9712221862298618,\n",
       "  'u_avg_hour': 10.441025641025641,\n",
       "  'u_std_hour': 1.649854406059765,\n",
       "  'u_avg_days_since_prior': 14.90256404876709,\n",
       "  'u_std_days_since_prior': 9.671711518690296,\n",
       "  'u_orders_total': 14,\n",
       "  'u_products_total': 195,\n",
       "  'u_products_unique': 102,\n",
       "  'u_reordered_total': 93,\n",
       "  'u_reordered_percentage': 0.47692307692307695,\n",
       "  'u_avg_order_size': 13.928571428571429,\n",
       "  'u_avg_reordered_orders': 0.4479609623876541,\n",
       "  'orders_3': 19.0,\n",
       "  'orders_2': 9.0,\n",
       "  'orders_1': 16.0,\n",
       "  'reorder_3': 0.5789473684210527,\n",
       "  'reorder_2': 0.0,\n",
       "  'reorder_1': 0.625},\n",
       " {'u_mean_dow': 1.0113636363636365,\n",
       "  'u_std_dow': 1.2456297690008487,\n",
       "  'u_avg_hour': 16.352272727272727,\n",
       "  'u_std_hour': 1.4545985165347575,\n",
       "  'u_avg_days_since_prior': 10.181818008422852,\n",
       "  'u_std_days_since_prior': 5.867395698979338,\n",
       "  'u_orders_total': 12,\n",
       "  'u_products_total': 88,\n",
       "  'u_products_unique': 33,\n",
       "  'u_reordered_total': 55,\n",
       "  'u_reordered_percentage': 0.625,\n",
       "  'u_avg_order_size': 7.333333333333333,\n",
       "  'u_avg_reordered_orders': 0.65881734006734,\n",
       "  'orders_3': 6.0,\n",
       "  'orders_2': 5.0,\n",
       "  'orders_1': 6.0,\n",
       "  'reorder_3': 0.8333333333333334,\n",
       "  'reorder_2': 1.0,\n",
       "  'reorder_1': 1.0},\n",
       " {'u_mean_dow': 4.722222222222222,\n",
       "  'u_std_dow': 0.8264420947336313,\n",
       "  'u_avg_hour': 13.11111111111111,\n",
       "  'u_std_hour': 1.7452081921613032,\n",
       "  'u_avg_days_since_prior': 11.94444465637207,\n",
       "  'u_std_days_since_prior': 9.973330449826575,\n",
       "  'u_orders_total': 5,\n",
       "  'u_products_total': 18,\n",
       "  'u_products_unique': 17,\n",
       "  'u_reordered_total': 1,\n",
       "  'u_reordered_percentage': 0.05555555555555555,\n",
       "  'u_avg_order_size': 3.6,\n",
       "  'u_avg_reordered_orders': 0.02857142857142857,\n",
       "  'orders_3': 7.0,\n",
       "  'orders_2': 2.0,\n",
       "  'orders_1': 3.0,\n",
       "  'reorder_3': 0.14285714285714285,\n",
       "  'reorder_2': 0.0,\n",
       "  'reorder_1': 0.0},\n",
       " {'u_mean_dow': 1.6216216216216217,\n",
       "  'u_std_dow': 1.2769614836128107,\n",
       "  'u_avg_hour': 15.72972972972973,\n",
       "  'u_std_hour': 2.588957841043903,\n",
       "  'u_avg_days_since_prior': 10.189188957214355,\n",
       "  'u_std_days_since_prior': 7.600576870788742,\n",
       "  'u_orders_total': 4,\n",
       "  'u_products_total': 37,\n",
       "  'u_products_unique': 23,\n",
       "  'u_reordered_total': 14,\n",
       "  'u_reordered_percentage': 0.3783783783783784,\n",
       "  'u_avg_order_size': 9.25,\n",
       "  'u_avg_reordered_orders': 0.37777777777777777,\n",
       "  'orders_3': 9.0,\n",
       "  'orders_2': 5.0,\n",
       "  'orders_1': 12.0,\n",
       "  'reorder_3': 0.4444444444444444,\n",
       "  'reorder_2': 0.4,\n",
       "  'reorder_1': 0.6666666666666666}]"
      ]
     },
     "execution_count": 25,
     "metadata": {},
     "output_type": "execute_result"
    }
   ],
   "source": [
    "user_feat[:5] "
   ]
  },
  {
   "cell_type": "code",
   "execution_count": 26,
   "metadata": {
    "execution": {
     "iopub.execute_input": "2025-04-14T10:14:35.740989Z",
     "iopub.status.busy": "2025-04-14T10:14:35.740691Z",
     "iopub.status.idle": "2025-04-14T10:14:35.757731Z",
     "shell.execute_reply": "2025-04-14T10:14:35.756681Z",
     "shell.execute_reply.started": "2025-04-14T10:14:35.740965Z"
    },
    "trusted": true
   },
   "outputs": [],
   "source": [
    "item_features_col = prod_f1.drop(columns=['product_id']).columns.values"
   ]
  },
  {
   "cell_type": "code",
   "execution_count": 27,
   "metadata": {
    "execution": {
     "iopub.execute_input": "2025-04-14T10:14:35.759247Z",
     "iopub.status.busy": "2025-04-14T10:14:35.758879Z",
     "iopub.status.idle": "2025-04-14T10:14:35.963321Z",
     "shell.execute_reply": "2025-04-14T10:14:35.962403Z",
     "shell.execute_reply.started": "2025-04-14T10:14:35.759212Z"
    },
    "trusted": true
   },
   "outputs": [],
   "source": [
    "item_feat = prod_f1.drop(columns=['product_id']).to_dict(orient='records')"
   ]
  },
  {
   "cell_type": "code",
   "execution_count": 28,
   "metadata": {
    "execution": {
     "iopub.execute_input": "2025-04-14T10:14:35.964743Z",
     "iopub.status.busy": "2025-04-14T10:14:35.964426Z",
     "iopub.status.idle": "2025-04-14T10:14:36.167288Z",
     "shell.execute_reply": "2025-04-14T10:14:36.166459Z",
     "shell.execute_reply.started": "2025-04-14T10:14:35.964700Z"
    },
    "trusted": true
   },
   "outputs": [],
   "source": [
    "# Step 1: Prepare user and product features\n",
    "dataset = Dataset()\n",
    "\n",
    "# Build user and item feature mappings\n",
    "dataset.fit(\n",
    "    users=[x for x in u_f['user_id']],\n",
    "    items=[x for x in prod_f1['product_id']],\n",
    "    user_features=user_features_col,  # Exclude 'user_id'\n",
    "    item_features=item_features_col   # Exclude 'product_id'\n",
    ")\n"
   ]
  },
  {
   "cell_type": "code",
   "execution_count": 29,
   "metadata": {
    "execution": {
     "iopub.execute_input": "2025-04-14T10:14:36.168502Z",
     "iopub.status.busy": "2025-04-14T10:14:36.168236Z",
     "iopub.status.idle": "2025-04-14T10:14:36.173981Z",
     "shell.execute_reply": "2025-04-14T10:14:36.172919Z",
     "shell.execute_reply.started": "2025-04-14T10:14:36.168480Z"
    },
    "trusted": true
   },
   "outputs": [
    {
     "name": "stdout",
     "output_type": "stream",
     "text": [
      "Num users: 206209, num_items 49677.\n"
     ]
    }
   ],
   "source": [
    "num_users, num_items = dataset.interactions_shape()\n",
    "print('Num users: {}, num_items {}.'.format(num_users, num_items))"
   ]
  },
  {
   "cell_type": "code",
   "execution_count": 30,
   "metadata": {
    "execution": {
     "iopub.execute_input": "2025-04-14T10:14:36.175476Z",
     "iopub.status.busy": "2025-04-14T10:14:36.175128Z",
     "iopub.status.idle": "2025-04-14T10:14:37.180048Z",
     "shell.execute_reply": "2025-04-14T10:14:37.179060Z",
     "shell.execute_reply.started": "2025-04-14T10:14:36.175437Z"
    },
    "trusted": true
   },
   "outputs": [],
   "source": [
    "item_features = dataset.build_item_features((x,y) for x,y in zip(prod_f1['product_id'],item_feat))"
   ]
  },
  {
   "cell_type": "code",
   "execution_count": 31,
   "metadata": {
    "execution": {
     "iopub.execute_input": "2025-04-14T10:14:37.181515Z",
     "iopub.status.busy": "2025-04-14T10:14:37.181233Z",
     "iopub.status.idle": "2025-04-14T10:14:41.247125Z",
     "shell.execute_reply": "2025-04-14T10:14:41.245955Z",
     "shell.execute_reply.started": "2025-04-14T10:14:37.181492Z"
    },
    "trusted": true
   },
   "outputs": [],
   "source": [
    "user_features = dataset.build_user_features((x,y) for x,y in zip(u_f['user_id'],user_feat))"
   ]
  },
  {
   "cell_type": "code",
   "execution_count": 32,
   "metadata": {
    "execution": {
     "iopub.execute_input": "2025-04-14T10:14:41.248652Z",
     "iopub.status.busy": "2025-04-14T10:14:41.248275Z",
     "iopub.status.idle": "2025-04-14T10:14:41.255105Z",
     "shell.execute_reply": "2025-04-14T10:14:41.254226Z",
     "shell.execute_reply.started": "2025-04-14T10:14:41.248615Z"
    },
    "trusted": true
   },
   "outputs": [
    {
     "name": "stdout",
     "output_type": "stream",
     "text": [
      "float32\n",
      "float32\n"
     ]
    }
   ],
   "source": [
    "print(user_features.dtype)\n",
    "print(item_features.dtype)"
   ]
  },
  {
   "cell_type": "code",
   "execution_count": 33,
   "metadata": {
    "execution": {
     "iopub.execute_input": "2025-04-14T10:14:41.256428Z",
     "iopub.status.busy": "2025-04-14T10:14:41.256158Z",
     "iopub.status.idle": "2025-04-14T10:14:41.279164Z",
     "shell.execute_reply": "2025-04-14T10:14:41.278108Z",
     "shell.execute_reply.started": "2025-04-14T10:14:41.256406Z"
    },
    "trusted": true
   },
   "outputs": [
    {
     "name": "stdout",
     "output_type": "stream",
     "text": [
      "(206209, 206228)\n",
      "(49677, 49697)\n"
     ]
    }
   ],
   "source": [
    "print(user_features.shape)\n",
    "print(item_features.shape)"
   ]
  },
  {
   "cell_type": "code",
   "execution_count": 34,
   "metadata": {
    "execution": {
     "iopub.execute_input": "2025-04-14T10:14:41.280916Z",
     "iopub.status.busy": "2025-04-14T10:14:41.280532Z",
     "iopub.status.idle": "2025-04-14T10:14:41.320295Z",
     "shell.execute_reply": "2025-04-14T10:14:41.319150Z",
     "shell.execute_reply.started": "2025-04-14T10:14:41.280888Z"
    },
    "trusted": true
   },
   "outputs": [
    {
     "name": "stdout",
     "output_type": "stream",
     "text": [
      "  (0, 0)\t0.004838432185351849\n",
      "  (0, 206209)\t0.012793143279850483\n",
      "  (0, 206210)\t0.006078011821955442\n",
      "  (0, 206211)\t0.05100855603814125\n",
      "  (0, 206212)\t0.016936229541897774\n",
      "  (0, 206213)\t0.08971602469682693\n",
      "  (0, 206214)\t0.0510893240571022\n",
      "  (0, 206215)\t0.048384323716163635\n",
      "  (0, 206216)\t0.2854675054550171\n",
      "  (0, 206217)\t0.08709178119897842\n",
      "  (0, 206218)\t0.19837573170661926\n",
      "  (0, 206219)\t0.0033623003400862217\n",
      "  (0, 206220)\t0.028546752408146858\n",
      "  (0, 206221)\t0.003415126819163561\n",
      "  (0, 206222)\t0.02903059497475624\n",
      "  (0, 206223)\t0.02903059497475624\n",
      "  (0, 206224)\t0.04354589059948921\n",
      "  (0, 206225)\t0.0032256217673420906\n",
      "  (0, 206226)\t0.004838432185351849\n",
      "  (0, 206227)\t0.0032256217673420906\n",
      "  (1, 1)\t0.0019813794642686844\n",
      "  (1, 206209)\t0.003972919657826424\n",
      "  (1, 206210)\t0.0019243595888838172\n",
      "  (1, 206211)\t0.020687632262706757\n",
      "  (1, 206212)\t0.0032689874060451984\n",
      "  :\t:\n",
      "  (206207, 206223)\t0.005320543423295021\n",
      "  (206207, 206224)\t0.011306154541671276\n",
      "  (206207, 206225)\t0.0006650679279118776\n",
      "  (206207, 206226)\t0.0005819344078190625\n",
      "  (206207, 206227)\t0.0005477030063048005\n",
      "  (206208, 206208)\t0.002696602838113904\n",
      "  (206208, 206209)\t0.007170037366449833\n",
      "  (206208, 206210)\t0.004148850217461586\n",
      "  (206208, 206211)\t0.034846797585487366\n",
      "  (206208, 206212)\t0.007381968665868044\n",
      "  (206208, 206213)\t0.049165964126586914\n",
      "  (206208, 206214)\t0.029446404427289963\n",
      "  (206208, 206215)\t0.03505583480000496\n",
      "  (206208, 206216)\t0.34786176681518555\n",
      "  (206208, 206217)\t0.1833689957857132\n",
      "  (206208, 206218)\t0.16449277102947235\n",
      "  (206208, 206219)\t0.0012751377653330564\n",
      "  (206208, 206220)\t0.026758596301078796\n",
      "  (206208, 206221)\t0.0014474074123427272\n",
      "  (206208, 206222)\t0.021572822704911232\n",
      "  (206208, 206223)\t0.053932055830955505\n",
      "  (206208, 206224)\t0.024269426241517067\n",
      "  (206208, 206225)\t0.002022452186793089\n",
      "  (206208, 206226)\t0.001887621940113604\n",
      "  (206208, 206227)\t0.0011984901502728462\n"
     ]
    }
   ],
   "source": [
    "print(user_features)"
   ]
  },
  {
   "cell_type": "code",
   "execution_count": 35,
   "metadata": {
    "execution": {
     "iopub.execute_input": "2025-04-14T10:14:41.321780Z",
     "iopub.status.busy": "2025-04-14T10:14:41.321397Z",
     "iopub.status.idle": "2025-04-14T10:14:41.332730Z",
     "shell.execute_reply": "2025-04-14T10:14:41.331518Z",
     "shell.execute_reply.started": "2025-04-14T10:14:41.321739Z"
    },
    "trusted": true
   },
   "outputs": [
    {
     "name": "stdout",
     "output_type": "stream",
     "text": [
      "  (0, 0)\t1.9450547483756964e-07\n",
      "  (0, 49677)\t0.00013926591782364994\n",
      "  (0, 49678)\t0.0003602241340558976\n",
      "  (0, 49679)\t0.00022095821623224765\n",
      "  (0, 49680)\t1.1930789867165004e-07\n",
      "  (0, 49681)\t1.1284888614682131e-06\n",
      "  (0, 49682)\t0.00013926591782364994\n",
      "  (0, 49683)\t5.368351048673503e-05\n",
      "  (0, 49684)\t7.497697396274816e-08\n",
      "  (0, 49685)\t1.1864834050356876e-05\n",
      "  (0, 49686)\t3.6956041640223702e-06\n",
      "  (0, 49687)\t0.010542585514485836\n",
      "  (0, 49688)\t0.04552692547440529\n",
      "  (0, 49689)\t0.024980533868074417\n",
      "  (0, 49690)\t1.0672476946638199e-07\n",
      "  (0, 49691)\t1.7997770100919297e-06\n",
      "  (0, 49692)\t0.03388654813170433\n",
      "  (0, 49693)\t0.5616443157196045\n",
      "  (0, 49694)\t0.3224848210811615\n",
      "  (0, 49695)\t1.1168112479253978e-07\n",
      "  (0, 49696)\t1.7870662532004644e-06\n",
      "  (1, 1)\t3.3114093866970506e-07\n",
      "  (1, 49677)\t2.5828992875176482e-05\n",
      "  (1, 49678)\t2.9802684366586618e-05\n",
      "  (1, 49679)\t3.973691036662785e-06\n",
      "  :\t:\n",
      "  (49675, 49693)\t0.3461854159832001\n",
      "  (49675, 49694)\t0.20815619826316833\n",
      "  (49675, 49695)\t2.130041821146733e-06\n",
      "  (49675, 49696)\t2.734279587457422e-05\n",
      "  (49676, 49676)\t1.413671839145536e-06\n",
      "  (49676, 49677)\t0.0001046117176883854\n",
      "  (49676, 49678)\t0.00012581679038703442\n",
      "  (49676, 49679)\t2.120507815561723e-05\n",
      "  (49676, 49680)\t2.3825931805276923e-07\n",
      "  (49676, 49681)\t1.4136719073576387e-05\n",
      "  (49676, 49682)\t0.0001046117176883854\n",
      "  (49676, 49683)\t1.5550391253782436e-05\n",
      "  (49676, 49684)\t2.1014041351463675e-07\n",
      "  (49676, 49685)\t0.00010319805005565286\n",
      "  (49676, 49686)\t1.5550391253782436e-05\n",
      "  (49676, 49687)\t0.008907546289265156\n",
      "  (49676, 49688)\t0.01720297336578369\n",
      "  (49676, 49689)\t0.00545111857354641\n",
      "  (49676, 49690)\t4.4795126541430363e-07\n",
      "  (49676, 49691)\t1.1335048839100637e-05\n",
      "  (49676, 49692)\t0.1328413337469101\n",
      "  (49676, 49693)\t0.6320852041244507\n",
      "  (49676, 49694)\t0.2029806673526764\n",
      "  (49676, 49695)\t4.539705287243123e-07\n",
      "  (49676, 49696)\t1.2373519894026686e-05\n"
     ]
    }
   ],
   "source": [
    "print(item_features)"
   ]
  },
  {
   "cell_type": "code",
   "execution_count": 36,
   "metadata": {
    "execution": {
     "iopub.execute_input": "2025-04-14T10:14:41.334336Z",
     "iopub.status.busy": "2025-04-14T10:14:41.333867Z",
     "iopub.status.idle": "2025-04-14T10:14:41.346705Z",
     "shell.execute_reply": "2025-04-14T10:14:41.345533Z",
     "shell.execute_reply.started": "2025-04-14T10:14:41.334306Z"
    },
    "trusted": true
   },
   "outputs": [
    {
     "name": "stdout",
     "output_type": "stream",
     "text": [
      "(206209, 206228)\n"
     ]
    }
   ],
   "source": [
    "print(user_features.shape)"
   ]
  },
  {
   "cell_type": "code",
   "execution_count": 37,
   "metadata": {
    "execution": {
     "iopub.execute_input": "2025-04-14T10:14:41.348294Z",
     "iopub.status.busy": "2025-04-14T10:14:41.347866Z",
     "iopub.status.idle": "2025-04-14T10:14:41.379059Z",
     "shell.execute_reply": "2025-04-14T10:14:41.378012Z",
     "shell.execute_reply.started": "2025-04-14T10:14:41.348256Z"
    },
    "trusted": true
   },
   "outputs": [
    {
     "name": "stdout",
     "output_type": "stream",
     "text": [
      "  (0, 0)\t0.004838432185351849\n"
     ]
    }
   ],
   "source": [
    "print(user_features[:, 0])"
   ]
  },
  {
   "cell_type": "code",
   "execution_count": 38,
   "metadata": {
    "execution": {
     "iopub.execute_input": "2025-04-14T10:14:41.380661Z",
     "iopub.status.busy": "2025-04-14T10:14:41.380280Z",
     "iopub.status.idle": "2025-04-14T10:14:41.427646Z",
     "shell.execute_reply": "2025-04-14T10:14:41.426381Z",
     "shell.execute_reply.started": "2025-04-14T10:14:41.380621Z"
    },
    "trusted": true
   },
   "outputs": [
    {
     "name": "stdout",
     "output_type": "stream",
     "text": [
      "len(data): 4124180\n",
      "len(rows): 4039477\n",
      "len(cols): 4039477\n"
     ]
    }
   ],
   "source": [
    "data = user_features.data\n",
    "rows, cols = user_features.nonzero()\n",
    "print(f\"len(data): {len(data)}\")\n",
    "print(f\"len(rows): {len(rows)}\")\n",
    "print(f\"len(cols): {len(cols)}\")\n"
   ]
  },
  {
   "cell_type": "code",
   "execution_count": 39,
   "metadata": {
    "execution": {
     "iopub.execute_input": "2025-04-14T10:14:41.429068Z",
     "iopub.status.busy": "2025-04-14T10:14:41.428747Z",
     "iopub.status.idle": "2025-04-14T10:14:41.460791Z",
     "shell.execute_reply": "2025-04-14T10:14:41.459749Z",
     "shell.execute_reply.started": "2025-04-14T10:14:41.429033Z"
    },
    "trusted": true
   },
   "outputs": [
    {
     "name": "stdout",
     "output_type": "stream",
     "text": [
      "len(data): 4124180\n",
      "len(rows): 4124180\n",
      "len(cols): 4124180\n"
     ]
    }
   ],
   "source": [
    "user_features_coo = user_features.tocoo()\n",
    "rows = user_features_coo.row\n",
    "cols = user_features_coo.col\n",
    "data = user_features_coo.data\n",
    "\n",
    "# 再检查是否长度一致\n",
    "print(f\"len(data): {len(data)}\")\n",
    "print(f\"len(rows): {len(rows)}\")\n",
    "print(f\"len(cols): {len(cols)}\")"
   ]
  },
  {
   "cell_type": "code",
   "execution_count": 40,
   "metadata": {
    "execution": {
     "iopub.execute_input": "2025-04-14T10:14:41.462339Z",
     "iopub.status.busy": "2025-04-14T10:14:41.461955Z",
     "iopub.status.idle": "2025-04-14T10:14:41.505879Z",
     "shell.execute_reply": "2025-04-14T10:14:41.504722Z",
     "shell.execute_reply.started": "2025-04-14T10:14:41.462312Z"
    },
    "trusted": true
   },
   "outputs": [],
   "source": [
    "rows_shifted = rows + 1\n",
    "\n",
    "# 新的矩阵大小（行多一行）\n",
    "new_shape = (user_features.shape[0] + 1, user_features.shape[1])\n",
    "\n",
    "# 构建新的 csr_matrix\n",
    "user_features_row_shifted = csr_matrix((data, (rows_shifted, cols)), shape=new_shape)"
   ]
  },
  {
   "cell_type": "code",
   "execution_count": 41,
   "metadata": {
    "execution": {
     "iopub.execute_input": "2025-04-14T10:14:41.507470Z",
     "iopub.status.busy": "2025-04-14T10:14:41.507089Z",
     "iopub.status.idle": "2025-04-14T10:14:41.550155Z",
     "shell.execute_reply": "2025-04-14T10:14:41.549176Z",
     "shell.execute_reply.started": "2025-04-14T10:14:41.507428Z"
    },
    "trusted": true
   },
   "outputs": [
    {
     "name": "stdout",
     "output_type": "stream",
     "text": [
      "  (1, 0)\t0.004838432185351849\n",
      "  (1, 206209)\t0.012793143279850483\n",
      "  (1, 206210)\t0.006078011821955442\n",
      "  (1, 206211)\t0.05100855603814125\n",
      "  (1, 206212)\t0.016936229541897774\n",
      "  (1, 206213)\t0.08971602469682693\n",
      "  (1, 206214)\t0.0510893240571022\n",
      "  (1, 206215)\t0.048384323716163635\n",
      "  (1, 206216)\t0.2854675054550171\n",
      "  (1, 206217)\t0.08709178119897842\n",
      "  (1, 206218)\t0.19837573170661926\n",
      "  (1, 206219)\t0.0033623003400862217\n",
      "  (1, 206220)\t0.028546752408146858\n",
      "  (1, 206221)\t0.003415126819163561\n",
      "  (1, 206222)\t0.02903059497475624\n",
      "  (1, 206223)\t0.02903059497475624\n",
      "  (1, 206224)\t0.04354589059948921\n",
      "  (1, 206225)\t0.0032256217673420906\n",
      "  (1, 206226)\t0.004838432185351849\n",
      "  (1, 206227)\t0.0032256217673420906\n",
      "  (2, 1)\t0.0019813794642686844\n",
      "  (2, 206209)\t0.003972919657826424\n",
      "  (2, 206210)\t0.0019243595888838172\n",
      "  (2, 206211)\t0.020687632262706757\n",
      "  (2, 206212)\t0.0032689874060451984\n",
      "  :\t:\n",
      "  (206208, 206223)\t0.005320543423295021\n",
      "  (206208, 206224)\t0.011306154541671276\n",
      "  (206208, 206225)\t0.0006650679279118776\n",
      "  (206208, 206226)\t0.0005819344078190625\n",
      "  (206208, 206227)\t0.0005477030063048005\n",
      "  (206209, 206208)\t0.002696602838113904\n",
      "  (206209, 206209)\t0.007170037366449833\n",
      "  (206209, 206210)\t0.004148850217461586\n",
      "  (206209, 206211)\t0.034846797585487366\n",
      "  (206209, 206212)\t0.007381968665868044\n",
      "  (206209, 206213)\t0.049165964126586914\n",
      "  (206209, 206214)\t0.029446404427289963\n",
      "  (206209, 206215)\t0.03505583480000496\n",
      "  (206209, 206216)\t0.34786176681518555\n",
      "  (206209, 206217)\t0.1833689957857132\n",
      "  (206209, 206218)\t0.16449277102947235\n",
      "  (206209, 206219)\t0.0012751377653330564\n",
      "  (206209, 206220)\t0.026758596301078796\n",
      "  (206209, 206221)\t0.0014474074123427272\n",
      "  (206209, 206222)\t0.021572822704911232\n",
      "  (206209, 206223)\t0.053932055830955505\n",
      "  (206209, 206224)\t0.024269426241517067\n",
      "  (206209, 206225)\t0.002022452186793089\n",
      "  (206209, 206226)\t0.001887621940113604\n",
      "  (206209, 206227)\t0.0011984901502728462\n"
     ]
    }
   ],
   "source": [
    "print(user_features_row_shifted)"
   ]
  },
  {
   "cell_type": "code",
   "execution_count": 42,
   "metadata": {
    "execution": {
     "iopub.execute_input": "2025-04-14T10:14:41.551288Z",
     "iopub.status.busy": "2025-04-14T10:14:41.550976Z",
     "iopub.status.idle": "2025-04-14T10:14:41.566731Z",
     "shell.execute_reply": "2025-04-14T10:14:41.565506Z",
     "shell.execute_reply.started": "2025-04-14T10:14:41.551263Z"
    },
    "trusted": true
   },
   "outputs": [
    {
     "name": "stdout",
     "output_type": "stream",
     "text": [
      "len(data): 1043217\n",
      "len(rows): 1025729\n",
      "len(cols): 1025729\n"
     ]
    }
   ],
   "source": [
    "data1 = item_features.data\n",
    "rows1, cols1 =item_features.nonzero()\n",
    "print(f\"len(data): {len(data1)}\")\n",
    "print(f\"len(rows): {len(rows1)}\")\n",
    "print(f\"len(cols): {len(cols1)}\")"
   ]
  },
  {
   "cell_type": "code",
   "execution_count": 43,
   "metadata": {
    "execution": {
     "iopub.execute_input": "2025-04-14T10:14:41.568503Z",
     "iopub.status.busy": "2025-04-14T10:14:41.568104Z",
     "iopub.status.idle": "2025-04-14T10:14:41.583422Z",
     "shell.execute_reply": "2025-04-14T10:14:41.581972Z",
     "shell.execute_reply.started": "2025-04-14T10:14:41.568466Z"
    },
    "trusted": true
   },
   "outputs": [
    {
     "name": "stdout",
     "output_type": "stream",
     "text": [
      "len(data): 1043217\n",
      "len(rows): 1043217\n",
      "len(cols): 1043217\n"
     ]
    }
   ],
   "source": [
    "item_features_coo = item_features.tocoo()\n",
    "rows1 = item_features_coo.row\n",
    "cols1 = item_features_coo.col\n",
    "data1 = item_features_coo.data\n",
    "\n",
    "# 再检查是否长度一致\n",
    "print(f\"len(data): {len(data1)}\")\n",
    "print(f\"len(rows): {len(rows1)}\")\n",
    "print(f\"len(cols): {len(cols1)}\")"
   ]
  },
  {
   "cell_type": "code",
   "execution_count": 44,
   "metadata": {
    "execution": {
     "iopub.execute_input": "2025-04-14T10:14:41.585165Z",
     "iopub.status.busy": "2025-04-14T10:14:41.584784Z",
     "iopub.status.idle": "2025-04-14T10:14:41.598692Z",
     "shell.execute_reply": "2025-04-14T10:14:41.597462Z",
     "shell.execute_reply.started": "2025-04-14T10:14:41.585136Z"
    },
    "trusted": true
   },
   "outputs": [],
   "source": [
    "rows_shifted1 = rows1 + 1\n",
    "\n",
    "# 新的矩阵大小（行多一行）\n",
    "new_shape1 = (item_features.shape[0] + 1, item_features.shape[1])\n",
    "\n",
    "# 构建新的 csr_matrix\n",
    "item_features_row_shifted = csr_matrix((data1, (rows_shifted1, cols1)), shape=new_shape1)"
   ]
  },
  {
   "cell_type": "code",
   "execution_count": 45,
   "metadata": {
    "execution": {
     "iopub.execute_input": "2025-04-14T10:14:41.600130Z",
     "iopub.status.busy": "2025-04-14T10:14:41.599789Z",
     "iopub.status.idle": "2025-04-14T10:14:41.610171Z",
     "shell.execute_reply": "2025-04-14T10:14:41.609184Z",
     "shell.execute_reply.started": "2025-04-14T10:14:41.600103Z"
    },
    "trusted": true
   },
   "outputs": [
    {
     "name": "stdout",
     "output_type": "stream",
     "text": [
      "(49678, 49697)\n"
     ]
    }
   ],
   "source": [
    "print(item_features_row_shifted.shape)"
   ]
  },
  {
   "cell_type": "code",
   "execution_count": null,
   "metadata": {
    "execution": {
     "iopub.execute_input": "2025-04-14T10:14:41.611443Z",
     "iopub.status.busy": "2025-04-14T10:14:41.611157Z",
     "iopub.status.idle": "2025-04-14T10:21:15.874826Z",
     "shell.execute_reply": "2025-04-14T10:21:15.873533Z",
     "shell.execute_reply.started": "2025-04-14T10:14:41.611419Z"
    },
    "trusted": true
   },
   "outputs": [
    {
     "data": {
      "text/plain": [
       "<lightfm.lightfm.LightFM at 0x79e2f16f57e0>"
      ]
     },
     "execution_count": 46,
     "metadata": {},
     "output_type": "execute_result"
    }
   ],
   "source": [
    "from sklearn.model_selection import ParameterGrid\n",
    "\n",
    "# Step 2: Initialize the LightFM model\n",
    "model2 = LightFM(loss='warp')\n",
    "# Define the parameter grid\n",
    "param_grid = {\n",
    "    'no_components': [10, 20, 30],\n",
    "    'learning_rate': [0.01, 0.05, 0.1],\n",
    "    'item_alpha': [1e-6, 1e-5],\n",
    "    'user_alpha': [1e-6, 1e-5]\n",
    "}\n",
    "\n",
    "# Initialize variables to store the best parameters and score\n",
    "best_params = None\n",
    "best_precision = 0\n",
    "\n",
    "# Perform grid search\n",
    "for params in ParameterGrid(param_grid):\n",
    "    model2 = LightFM(\n",
    "        loss='warp',\n",
    "        no_components=params['no_components'],\n",
    "        learning_rate=params['learning_rate'],\n",
    "        item_alpha=params['item_alpha'],\n",
    "        user_alpha=params['user_alpha']\n",
    "    )\n",
    "    model2.fit(\n",
    "        train_interaction_matrix,\n",
    "        user_features=user_features_row_shifted,\n",
    "        item_features=item_features_row_shifted,\n",
    "        epochs=5,\n",
    "        num_threads=1\n",
    "    )\n",
    "    precision = precision_at_k(\n",
    "        model2,\n",
    "        test_interactions=test_interaction_matrix,\n",
    "        user_features=user_features_row_shifted,\n",
    "        item_features=item_features_row_shifted,\n",
    "        k=10,\n",
    "        num_threads=4\n",
    "    ).mean()\n",
    "    \n",
    "    if precision > best_precision:\n",
    "        best_precision = precision\n",
    "        best_params = params\n",
    "\n",
    "print(\"Best Parameters:\", best_params)\n",
    "print(\"Best Precision:\", best_precision)\n",
    "# Step 3: Fit the model with user and product features\n",
    "model2.fit(\n",
    "    train_interaction_matrix,\n",
    "    user_features=user_features_row_shifted,\n",
    "    item_features=item_features_row_shifted,\n",
    "    epochs=5,\n",
    "    num_threads=1\n",
    ")\n"
   ]
  },
  {
   "cell_type": "code",
   "execution_count": 47,
   "metadata": {
    "execution": {
     "iopub.execute_input": "2025-04-14T10:21:15.876537Z",
     "iopub.status.busy": "2025-04-14T10:21:15.876136Z",
     "iopub.status.idle": "2025-04-14T10:39:12.745813Z",
     "shell.execute_reply": "2025-04-14T10:39:12.744940Z",
     "shell.execute_reply.started": "2025-04-14T10:21:15.876492Z"
    },
    "trusted": true
   },
   "outputs": [
    {
     "name": "stdout",
     "output_type": "stream",
     "text": [
      "precision score for hybrid method= 0.00\n",
      "time taken for precision at k evaluation = 1076.86 seconds\n"
     ]
    }
   ],
   "source": [
    "start = time.time()\n",
    "model_precision_hybrid2=precision_at_k(model = model2, \n",
    "                        test_interactions = test_interaction_matrix,k=10,user_features=user_features_row_shifted, item_features=item_features_row_shifted,\n",
    "                        num_threads = 4, check_intersections = False)\n",
    "end = time.time()\n",
    "#pickle.dump(model_precision_hybrid2, open(\"model_precision_hybrid2.p\", \"wb\" ) )\n",
    "print(\"precision score for hybrid method= {0:.{1}f}\".format(model_precision_hybrid2.mean(), 2))\n",
    "print(\"time taken for precision at k evaluation = {0:.{1}f} seconds\".format(end - start, 2))"
   ]
  },
  {
   "cell_type": "code",
   "execution_count": null,
   "metadata": {
    "execution": {
     "iopub.execute_input": "2025-04-14T10:39:12.747120Z",
     "iopub.status.busy": "2025-04-14T10:39:12.746805Z",
     "iopub.status.idle": "2025-04-14T10:41:43.370004Z",
     "shell.execute_reply": "2025-04-14T10:41:43.368865Z",
     "shell.execute_reply.started": "2025-04-14T10:39:12.747095Z"
    },
    "trusted": true
   },
   "outputs": [
    {
     "data": {
      "text/plain": [
       "<lightfm.lightfm.LightFM at 0x79e2f16f4220>"
      ]
     },
     "execution_count": 48,
     "metadata": {},
     "output_type": "execute_result"
    }
   ],
   "source": [
    "# Step 2: Initialize the LightFM model\n",
    "model3 = LightFM(loss='warp')\n",
    "# Initial training with model.fit()\n",
    "model3.fit(\n",
    "    train_interaction_matrix,\n",
    "    user_features=user_features_row_shifted,\n",
    "    item_features=None,\n",
    "    epochs=5,\n",
    "    num_threads=1\n",
    ")\n",
    "\n",
    "# Further training with model.partial_fit()\n",
    "model3.partial_fit(\n",
    "    train_interaction_matrix,\n",
    "    user_features=user_features_row_shifted,\n",
    "    item_features=None,\n",
    "    epochs=3,\n",
    "    num_threads=1\n",
    ")"
   ]
  },
  {
   "cell_type": "code",
   "execution_count": null,
   "metadata": {},
   "outputs": [],
   "source": []
  },
  {
   "cell_type": "code",
   "execution_count": 49,
   "metadata": {
    "execution": {
     "iopub.execute_input": "2025-04-14T10:41:43.371334Z",
     "iopub.status.busy": "2025-04-14T10:41:43.371078Z",
     "iopub.status.idle": "2025-04-14T10:45:18.317064Z",
     "shell.execute_reply": "2025-04-14T10:45:18.315815Z",
     "shell.execute_reply.started": "2025-04-14T10:41:43.371313Z"
    },
    "trusted": true
   },
   "outputs": [
    {
     "name": "stdout",
     "output_type": "stream",
     "text": [
      "precision score for hybrid method= 0.05\n",
      "time taken for precision at k evaluation = 214.94 seconds\n"
     ]
    }
   ],
   "source": [
    "start = time.time()\n",
    "model_precision_hybrid3=precision_at_k(model = model3, \n",
    "                        test_interactions = test_interaction_matrix,k=10,user_features=user_features_row_shifted,item_features=None,\n",
    "                        num_threads = 4, check_intersections = False)\n",
    "end = time.time()\n",
    "#pickle.dump(model_precision_hybrid2, open(\"model_precision_hybrid2.p\", \"wb\" ) )\n",
    "print(\"precision score for hybrid method= {0:.{1}f}\".format(model_precision_hybrid3.mean(), 2))\n",
    "print(\"time taken for precision at k evaluation = {0:.{1}f} seconds\".format(end - start, 2))"
   ]
  },
  {
   "cell_type": "code",
   "execution_count": 50,
   "metadata": {
    "execution": {
     "iopub.execute_input": "2025-04-14T10:45:18.318278Z",
     "iopub.status.busy": "2025-04-14T10:45:18.317973Z",
     "iopub.status.idle": "2025-04-14T10:48:52.885305Z",
     "shell.execute_reply": "2025-04-14T10:48:52.883965Z",
     "shell.execute_reply.started": "2025-04-14T10:45:18.318253Z"
    },
    "trusted": true
   },
   "outputs": [
    {
     "name": "stdout",
     "output_type": "stream",
     "text": [
      "precision score for hybrid method= 0.06\n",
      "time taken for precision at k evaluation = 214.56 seconds\n"
     ]
    }
   ],
   "source": [
    "start = time.time()\n",
    "model_precision_hybrid3=precision_at_k(model = model3, \n",
    "                        test_interactions = test_interaction_matrix,k=5,user_features=user_features_row_shifted,item_features=None,\n",
    "                        num_threads = 4, check_intersections = False)\n",
    "end = time.time()\n",
    "#pickle.dump(model_precision_hybrid2, open(\"model_precision_hybrid2.p\", \"wb\" ) )\n",
    "print(\"precision score for hybrid method= {0:.{1}f}\".format(model_precision_hybrid3.mean(), 2))\n",
    "print(\"time taken for precision at k evaluation = {0:.{1}f} seconds\".format(end - start, 2))"
   ]
  },
  {
   "cell_type": "code",
   "execution_count": 51,
   "metadata": {
    "execution": {
     "iopub.execute_input": "2025-04-14T10:48:52.886625Z",
     "iopub.status.busy": "2025-04-14T10:48:52.886311Z",
     "iopub.status.idle": "2025-04-14T10:53:40.162834Z",
     "shell.execute_reply": "2025-04-14T10:53:40.161754Z",
     "shell.execute_reply.started": "2025-04-14T10:48:52.886601Z"
    },
    "trusted": true
   },
   "outputs": [
    {
     "data": {
      "text/plain": [
       "<lightfm.lightfm.LightFM at 0x79e2f16f5270>"
      ]
     },
     "execution_count": 51,
     "metadata": {},
     "output_type": "execute_result"
    }
   ],
   "source": [
    "# Step 2: Initialize the LightFM model\n",
    "model4 = LightFM(loss='warp')\n",
    "\n",
    "# Step 3: Fit the model with user and product features\n",
    "model4.fit(\n",
    "    train_interaction_matrix,\n",
    "    user_features=None,\n",
    "    item_features=item_features_row_shifted,\n",
    "    epochs=5,\n",
    "    num_threads=1\n",
    ")"
   ]
  },
  {
   "cell_type": "code",
   "execution_count": 52,
   "metadata": {
    "execution": {
     "iopub.execute_input": "2025-04-14T10:53:40.164256Z",
     "iopub.status.busy": "2025-04-14T10:53:40.163889Z",
     "iopub.status.idle": "2025-04-14T11:11:38.536234Z",
     "shell.execute_reply": "2025-04-14T11:11:38.535132Z",
     "shell.execute_reply.started": "2025-04-14T10:53:40.164228Z"
    },
    "trusted": true
   },
   "outputs": [
    {
     "name": "stdout",
     "output_type": "stream",
     "text": [
      "precision score for hybrid method= 0.00\n",
      "time taken for precision at k evaluation = 1078.37 seconds\n"
     ]
    }
   ],
   "source": [
    "start = time.time()\n",
    "model_precision_hybrid4=precision_at_k(model = model4, \n",
    "                        test_interactions = test_interaction_matrix,k=10,user_features=None, item_features=item_features_row_shifted,\n",
    "                        num_threads = 4, check_intersections = False)\n",
    "end = time.time()\n",
    "#pickle.dump(model_precision_hybrid2, open(\"model_precision_hybrid2.p\", \"wb\" ) )\n",
    "print(\"precision score for hybrid method= {0:.{1}f}\".format(model_precision_hybrid4.mean(), 2))\n",
    "print(\"time taken for precision at k evaluation = {0:.{1}f} seconds\".format(end - start, 2))"
   ]
  },
  {
   "cell_type": "code",
   "execution_count": 53,
   "metadata": {
    "execution": {
     "iopub.execute_input": "2025-04-14T11:11:38.537738Z",
     "iopub.status.busy": "2025-04-14T11:11:38.537319Z",
     "iopub.status.idle": "2025-04-14T11:29:37.707272Z",
     "shell.execute_reply": "2025-04-14T11:29:37.706295Z",
     "shell.execute_reply.started": "2025-04-14T11:11:38.537704Z"
    },
    "trusted": true
   },
   "outputs": [
    {
     "name": "stdout",
     "output_type": "stream",
     "text": [
      "precision score for hybrid method= 0.00\n",
      "time taken for precision at k evaluation = 1079.16 seconds\n"
     ]
    }
   ],
   "source": [
    "start = time.time()\n",
    "model_precision_hybrid4=precision_at_k(model = model4, \n",
    "                        test_interactions = test_interaction_matrix,k=5,user_features=None, item_features=item_features_row_shifted,\n",
    "                        num_threads = 4, check_intersections = False)\n",
    "end = time.time()\n",
    "#pickle.dump(model_precision_hybrid2, open(\"model_precision_hybrid2.p\", \"wb\" ) )\n",
    "print(\"precision score for hybrid method= {0:.{1}f}\".format(model_precision_hybrid4.mean(), 2))\n",
    "print(\"time taken for precision at k evaluation = {0:.{1}f} seconds\".format(end - start, 2))"
   ]
  },
  {
   "cell_type": "code",
   "execution_count": 54,
   "metadata": {
    "execution": {
     "iopub.execute_input": "2025-04-14T11:29:37.708819Z",
     "iopub.status.busy": "2025-04-14T11:29:37.708461Z",
     "iopub.status.idle": "2025-04-14T11:29:38.149452Z",
     "shell.execute_reply": "2025-04-14T11:29:38.148489Z",
     "shell.execute_reply.started": "2025-04-14T11:29:37.708784Z"
    },
    "trusted": true
   },
   "outputs": [
    {
     "name": "stdout",
     "output_type": "stream",
     "text": [
      "(206209, 3)\n",
      "(49677, 3)\n"
     ]
    }
   ],
   "source": [
    "import pandas as pd\n",
    "from sklearn.decomposition import PCA\n",
    "u_f_features = u_f.drop(columns=['user_id'])  # 去掉 user_id 列\n",
    "pca_u_f = PCA(n_components=0.99)  \n",
    "u_f_pca_features = pca_u_f.fit_transform(u_f_features)\n",
    "\n",
    "# 将 PCA 结果转换为 DataFrame 并添加 user_id\n",
    "u_f_pca = pd.DataFrame(u_f_pca_features, columns=[f'pc_{i+1}' for i in range(u_f_pca_features.shape[1])])\n",
    "u_f_pca['user_id'] = u_f['user_id']\n",
    "\n",
    "# 对 prod_f1 进行 PCA 特征选择\n",
    "prod_f1_features = prod_f1.drop(columns=['product_id'])  # 去掉 product_id 列\n",
    "pca_prod_f1 = PCA(n_components=0.99) \n",
    "prod_f1_pca_features = pca_prod_f1.fit_transform(prod_f1_features)\n",
    "\n",
    "# 将 PCA 结果转换为 DataFrame 并添加 product_id\n",
    "prod_f1_pca = pd.DataFrame(prod_f1_pca_features, columns=[f'pc_{i+1}' for i in range(prod_f1_pca_features.shape[1])])\n",
    "prod_f1_pca['product_id'] = prod_f1['product_id']\n",
    "\n",
    "# 输出结果\n",
    "print(u_f_pca.shape)\n",
    "print(prod_f1_pca.shape)"
   ]
  },
  {
   "cell_type": "code",
   "execution_count": 55,
   "metadata": {
    "execution": {
     "iopub.execute_input": "2025-04-14T11:29:38.150933Z",
     "iopub.status.busy": "2025-04-14T11:29:38.150567Z",
     "iopub.status.idle": "2025-04-14T11:29:39.482416Z",
     "shell.execute_reply": "2025-04-14T11:29:39.481312Z",
     "shell.execute_reply.started": "2025-04-14T11:29:38.150893Z"
    },
    "trusted": true
   },
   "outputs": [
    {
     "name": "stdout",
     "output_type": "stream",
     "text": [
      "len(data): 618627\n",
      "len(rows): 618627\n",
      "len(cols): 618627\n",
      "len(data): 149031\n",
      "len(rows): 149031\n",
      "len(cols): 149031\n"
     ]
    }
   ],
   "source": [
    "user_features_col_pca =u_f_pca.drop(columns =['user_id']).columns.values\n",
    "user_feat_pca = u_f_pca.drop(columns =['user_id']).to_dict(orient='records')\n",
    "item_features_col_pca = prod_f1_pca.drop(columns=['product_id']).columns.values\n",
    "item_feat_pca = prod_f1_pca.drop(columns=['product_id']).to_dict(orient='records')\n",
    "# Step 1: Prepare user and product features\n",
    "dataset = Dataset()\n",
    "\n",
    "# Build user and item feature mappings\n",
    "dataset.fit(\n",
    "    users=[x for x in u_f_pca['user_id']],\n",
    "    items=[x for x in prod_f1_pca['product_id']],\n",
    "    user_features=user_features_col_pca,  # Exclude 'user_id'\n",
    "    item_features=item_features_col_pca   # Exclude 'product_id'\n",
    ")\n",
    "item_features = dataset.build_item_features((x,y) for x,y in zip(prod_f1_pca['product_id'],item_feat_pca))\n",
    "user_features = dataset.build_user_features((x,y) for x,y in zip(u_f_pca['user_id'],user_feat_pca))\n",
    "\n",
    "user_features_coo_pca = user_features.tocoo()\n",
    "rows_pca = user_features_coo_pca.row\n",
    "cols_pca = user_features_coo_pca.col\n",
    "data_pca = user_features_coo_pca.data\n",
    "\n",
    "# 再检查是否长度一致\n",
    "print(f\"len(data): {len(data_pca)}\")\n",
    "print(f\"len(rows): {len(rows_pca)}\")\n",
    "print(f\"len(cols): {len(cols_pca)}\")\n",
    "rows_shifted_pca = rows_pca + 1\n",
    "\n",
    "# 新的矩阵大小（行多一行）\n",
    "new_shape_pca = (user_features.shape[0] + 1, user_features.shape[1])\n",
    "\n",
    "# 构建新的 csr_matrix\n",
    "user_features_pca = csr_matrix((data_pca, (rows_shifted_pca, cols_pca)), shape=new_shape_pca)\n",
    "item_features_coo_pca = item_features.tocoo()\n",
    "rows1_pca = item_features_coo_pca.row\n",
    "cols1_pca = item_features_coo_pca.col\n",
    "data1_pca = item_features_coo_pca.data\n",
    "\n",
    "# 再检查是否长度一致\n",
    "print(f\"len(data): {len(data1_pca)}\")\n",
    "print(f\"len(rows): {len(rows1_pca)}\")\n",
    "print(f\"len(cols): {len(cols1_pca)}\")\n",
    "\n",
    "rows_shifted1_pca = rows1_pca + 1\n",
    "\n",
    "# 新的矩阵大小（行多一行）\n",
    "new_shape1_pca = (item_features.shape[0] + 1, item_features.shape[1])\n",
    "\n",
    "# 构建新的 csr_matrix\n",
    "item_features_pca = csr_matrix((data1_pca, (rows_shifted1_pca, cols1_pca)), shape=new_shape1_pca)"
   ]
  },
  {
   "cell_type": "code",
   "execution_count": 56,
   "metadata": {
    "execution": {
     "iopub.execute_input": "2025-04-14T11:29:39.483626Z",
     "iopub.status.busy": "2025-04-14T11:29:39.483319Z",
     "iopub.status.idle": "2025-04-14T11:31:30.267866Z",
     "shell.execute_reply": "2025-04-14T11:31:30.267066Z",
     "shell.execute_reply.started": "2025-04-14T11:29:39.483601Z"
    },
    "trusted": true
   },
   "outputs": [
    {
     "data": {
      "text/plain": [
       "<lightfm.lightfm.LightFM at 0x79e2fe478940>"
      ]
     },
     "execution_count": 56,
     "metadata": {},
     "output_type": "execute_result"
    }
   ],
   "source": [
    "# Step 2: Initialize the LightFM model\n",
    "model5 = LightFM(loss='warp')\n",
    "\n",
    "# Step 3: Fit the model with user and product features\n",
    "model5.fit(\n",
    "    train_interaction_matrix,\n",
    "    user_features=user_features_pca,\n",
    "    item_features=item_features_pca,\n",
    "    epochs=5,\n",
    "    num_threads=4\n",
    ")\n"
   ]
  },
  {
   "cell_type": "code",
   "execution_count": 57,
   "metadata": {
    "execution": {
     "iopub.execute_input": "2025-04-14T11:31:30.268724Z",
     "iopub.status.busy": "2025-04-14T11:31:30.268483Z",
     "iopub.status.idle": "2025-04-14T11:37:04.069048Z",
     "shell.execute_reply": "2025-04-14T11:37:04.067815Z",
     "shell.execute_reply.started": "2025-04-14T11:31:30.268702Z"
    },
    "trusted": true
   },
   "outputs": [
    {
     "name": "stdout",
     "output_type": "stream",
     "text": [
      "precision score for hybrid method= 0.00\n",
      "time taken for precision at k evaluation = 333.79 seconds\n"
     ]
    }
   ],
   "source": [
    "import time\n",
    "start = time.time()\n",
    "model_precision_hybrid5=precision_at_k(model = model5, \n",
    "                        test_interactions = test_interaction_matrix,k=5,user_features=user_features_pca, item_features=item_features_pca,\n",
    "                        num_threads = 4, check_intersections = False)\n",
    "end = time.time()\n",
    "#pickle.dump(model_precision_hybrid2, open(\"model_precision_hybrid2.p\", \"wb\" ) )\n",
    "print(\"precision score for hybrid method= {0:.{1}f}\".format(model_precision_hybrid5.mean(), 2))\n",
    "print(\"time taken for precision at k evaluation = {0:.{1}f} seconds\".format(end - start, 2))"
   ]
  },
  {
   "cell_type": "code",
   "execution_count": 58,
   "metadata": {
    "execution": {
     "iopub.execute_input": "2025-04-14T11:37:04.070416Z",
     "iopub.status.busy": "2025-04-14T11:37:04.070099Z",
     "iopub.status.idle": "2025-04-14T11:38:52.117431Z",
     "shell.execute_reply": "2025-04-14T11:38:52.116494Z",
     "shell.execute_reply.started": "2025-04-14T11:37:04.070377Z"
    },
    "trusted": true
   },
   "outputs": [
    {
     "data": {
      "text/plain": [
       "<lightfm.lightfm.LightFM at 0x79e2fe478fa0>"
      ]
     },
     "execution_count": 58,
     "metadata": {},
     "output_type": "execute_result"
    }
   ],
   "source": [
    "# Step 2: Initialize the LightFM model\n",
    "model6 = LightFM(loss='warp')\n",
    "\n",
    "# Step 3: Fit the model with user and product features\n",
    "model6.fit(\n",
    "    train_interaction_matrix,\n",
    "    user_features=None,\n",
    "    item_features=item_features_pca,\n",
    "    epochs=5,\n",
    "    num_threads=1\n",
    ")"
   ]
  },
  {
   "cell_type": "code",
   "execution_count": 59,
   "metadata": {
    "execution": {
     "iopub.execute_input": "2025-04-14T11:38:52.118701Z",
     "iopub.status.busy": "2025-04-14T11:38:52.118339Z",
     "iopub.status.idle": "2025-04-14T11:44:25.317920Z",
     "shell.execute_reply": "2025-04-14T11:44:25.317054Z",
     "shell.execute_reply.started": "2025-04-14T11:38:52.118673Z"
    },
    "trusted": true
   },
   "outputs": [
    {
     "name": "stdout",
     "output_type": "stream",
     "text": [
      "precision score for hybrid method= 0.00\n",
      "time taken for precision at k evaluation = 333.19 seconds\n"
     ]
    }
   ],
   "source": [
    "start = time.time()\n",
    "model_precision_hybrid6=precision_at_k(model = model6, \n",
    "                        test_interactions = test_interaction_matrix,k=5,user_features=None,item_features=item_features_pca,\n",
    "                        num_threads = 4, check_intersections = False)\n",
    "end = time.time()\n",
    "#pickle.dump(model_precision_hybrid2, open(\"model_precision_hybrid2.p\", \"wb\" ) )\n",
    "print(\"precision score for hybrid method= {0:.{1}f}\".format(model_precision_hybrid6.mean(), 2))\n",
    "print(\"time taken for precision at k evaluation = {0:.{1}f} seconds\".format(end - start, 2))"
   ]
  },
  {
   "cell_type": "code",
   "execution_count": 60,
   "metadata": {
    "execution": {
     "iopub.execute_input": "2025-04-14T11:44:25.319373Z",
     "iopub.status.busy": "2025-04-14T11:44:25.318979Z",
     "iopub.status.idle": "2025-04-14T12:14:24.353602Z",
     "shell.execute_reply": "2025-04-14T12:14:24.352541Z",
     "shell.execute_reply.started": "2025-04-14T11:44:25.319329Z"
    },
    "trusted": true
   },
   "outputs": [
    {
     "name": "stderr",
     "output_type": "stream",
     "text": [
      "Epoch: 100%|██████████| 100/100 [29:58<00:00, 17.99s/it]\n"
     ]
    },
    {
     "data": {
      "text/plain": [
       "<lightfm.lightfm.LightFM at 0x79e2e59c6a10>"
      ]
     },
     "execution_count": 60,
     "metadata": {},
     "output_type": "execute_result"
    }
   ],
   "source": [
    "# Step 2: Initialize the LightFM model\n",
    "model7 = LightFM(loss='warp')\n",
    "\n",
    "# Step 3: Fit the model with user and product features\n",
    "model7.fit(\n",
    "    train_interaction_matrix,\n",
    "    user_features=user_features_pca,\n",
    "    item_features=None,\n",
    "    epochs=100,\n",
    "    num_threads=1,\n",
    "    verbose=True\n",
    ")"
   ]
  },
  {
   "cell_type": "code",
   "execution_count": 61,
   "metadata": {
    "execution": {
     "iopub.execute_input": "2025-04-14T12:14:24.354960Z",
     "iopub.status.busy": "2025-04-14T12:14:24.354675Z",
     "iopub.status.idle": "2025-04-14T12:17:58.661075Z",
     "shell.execute_reply": "2025-04-14T12:17:58.659889Z",
     "shell.execute_reply.started": "2025-04-14T12:14:24.354928Z"
    },
    "trusted": true
   },
   "outputs": [
    {
     "name": "stdout",
     "output_type": "stream",
     "text": [
      "precision score for hybrid method= 0.06\n",
      "time taken for precision at k evaluation = 214.30 seconds\n"
     ]
    }
   ],
   "source": [
    "import time\n",
    "start = time.time()\n",
    "model_precision_hybrid7=precision_at_k(model = model7, \n",
    "                        test_interactions = test_interaction_matrix,k=5,user_features=user_features_pca,item_features=None,\n",
    "                        num_threads = 4, check_intersections = False)\n",
    "end = time.time()\n",
    "#pickle.dump(model_precision_hybrid2, open(\"model_precision_hybrid2.p\", \"wb\" ) )\n",
    "print(\"precision score for hybrid method= {0:.{1}f}\".format(model_precision_hybrid7.mean(), 2))\n",
    "print(\"time taken for precision at k evaluation = {0:.{1}f} seconds\".format(end - start, 2))"
   ]
  },
  {
   "cell_type": "code",
   "execution_count": null,
   "metadata": {
    "trusted": true
   },
   "outputs": [],
   "source": []
  }
 ],
 "metadata": {
  "kaggle": {
   "accelerator": "none",
   "dataSources": [
    {
     "datasetId": 7061961,
     "sourceId": 11294106,
     "sourceType": "datasetVersion"
    }
   ],
   "dockerImageVersionId": 30918,
   "isGpuEnabled": false,
   "isInternetEnabled": true,
   "language": "python",
   "sourceType": "notebook"
  },
  "kernelspec": {
   "display_name": "base",
   "language": "python",
   "name": "python3"
  },
  "language_info": {
   "codemirror_mode": {
    "name": "ipython",
    "version": 3
   },
   "file_extension": ".py",
   "mimetype": "text/x-python",
   "name": "python",
   "nbconvert_exporter": "python",
   "pygments_lexer": "ipython3",
   "version": "3.11.7"
  }
 },
 "nbformat": 4,
 "nbformat_minor": 4
}
