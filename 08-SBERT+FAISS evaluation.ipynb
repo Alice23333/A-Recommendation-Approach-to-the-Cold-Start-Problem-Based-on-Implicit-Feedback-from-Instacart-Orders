{
 "cells": [
  {
   "cell_type": "code",
   "execution_count": 1,
   "id": "zEjRQGiTeOyh",
   "metadata": {
    "id": "zEjRQGiTeOyh"
   },
   "outputs": [],
   "source": [
    "import pandas as pd\n",
    "import numpy as np\n",
    "import os"
   ]
  },
  {
   "cell_type": "code",
   "execution_count": 2,
   "id": "H_CLTGA5dZwH",
   "metadata": {
    "colab": {
     "base_uri": "https://localhost:8080/"
    },
    "executionInfo": {
     "elapsed": 1115,
     "status": "ok",
     "timestamp": 1744357256236,
     "user": {
      "displayName": "Inger Linza",
      "userId": "17400888250019099943"
     },
     "user_tz": -480
    },
    "id": "H_CLTGA5dZwH",
    "outputId": "1e3f7297-97f2-4995-b099-a264dced2369"
   },
   "outputs": [
    {
     "name": "stdout",
     "output_type": "stream",
     "text": [
      "./data/aisles.csv\n",
      "./data/departments.csv\n",
      "./data/orders.csv\n",
      "./data/order_products__prior.csv\n",
      "./data/order_products__train.csv\n",
      "./data/products.csv\n",
      "./data/.ipynb_checkpoints\\aisles-checkpoint.csv\n"
     ]
    }
   ],
   "source": [
    "for dirname, _, filenames in os.walk('./data/'):\n",
    "    for filename in filenames:\n",
    "        print(os.path.join(dirname, filename))"
   ]
  },
  {
   "cell_type": "code",
   "execution_count": 3,
   "id": "gcVgBHukgOKN",
   "metadata": {
    "colab": {
     "base_uri": "https://localhost:8080/"
    },
    "executionInfo": {
     "elapsed": 26,
     "status": "ok",
     "timestamp": 1744357258828,
     "user": {
      "displayName": "Inger Linza",
      "userId": "17400888250019099943"
     },
     "user_tz": -480
    },
    "id": "gcVgBHukgOKN",
    "outputId": "cc0bb723-7b63-4a46-e565-5452f36d6a06"
   },
   "outputs": [
    {
     "name": "stdout",
     "output_type": "stream",
     "text": [
      "./results/7-Fine Tuned Sentence Bert-Pytorch.ipynb\n",
      "./results/fine_tuned_sentence_bert_FAISS_recommendation.csv\n",
      "./results/fine_tuned_sentence_bert_product_embeddings.csv\n",
      "./results/product_pairs_for_finetune.csv\n",
      "./results/.ipynb_checkpoints\\7-Fine Tuned Sentence Bert-Pytorch-checkpoint.ipynb\n",
      "./results/fine_tuned_model\\config.json\n",
      "./results/fine_tuned_model\\config_sentence_transformers.json\n",
      "./results/fine_tuned_model\\model.safetensors\n",
      "./results/fine_tuned_model\\modules.json\n",
      "./results/fine_tuned_model\\README.md\n",
      "./results/fine_tuned_model\\sentence_bert_config.json\n",
      "./results/fine_tuned_model\\special_tokens_map.json\n",
      "./results/fine_tuned_model\\tokenizer.json\n",
      "./results/fine_tuned_model\\tokenizer_config.json\n",
      "./results/fine_tuned_model\\vocab.txt\n",
      "./results/fine_tuned_model\\1_Pooling\\config.json\n"
     ]
    }
   ],
   "source": [
    "for dirname, _, filenames in os.walk('./results/'):\n",
    "    for filename in filenames:\n",
    "        print(os.path.join(dirname, filename))"
   ]
  },
  {
   "cell_type": "code",
   "execution_count": 4,
   "id": "72bc48e5-7f55-43d6-9a1c-08e33c83d5b8",
   "metadata": {
    "id": "72bc48e5-7f55-43d6-9a1c-08e33c83d5b8"
   },
   "outputs": [],
   "source": [
    "read_path = './data/'\n",
    "save_path = './results/'\n",
    "prod_df = pd.read_csv(read_path+\"products.csv\")\n",
    "faiss_recom_df = pd.read_csv(save_path+\"fine_tuned_sentence_bert_FAISS_recommendation.csv\", encoding='latin1')"
   ]
  },
  {
   "cell_type": "code",
   "execution_count": 5,
   "id": "e89decf4-caa1-4a8c-b6ce-342303c1806b",
   "metadata": {
    "id": "e89decf4-caa1-4a8c-b6ce-342303c1806b"
   },
   "outputs": [],
   "source": [
    "faiss_recom_df = faiss_recom_df.drop(\"nearest_0\", axis=1)"
   ]
  },
  {
   "cell_type": "code",
   "execution_count": 6,
   "id": "aYXPGCfmhX8L",
   "metadata": {
    "colab": {
     "base_uri": "https://localhost:8080/",
     "height": 423
    },
    "executionInfo": {
     "elapsed": 134,
     "status": "ok",
     "timestamp": 1744357576117,
     "user": {
      "displayName": "Inger Linza",
      "userId": "17400888250019099943"
     },
     "user_tz": -480
    },
    "id": "aYXPGCfmhX8L",
    "outputId": "df992033-1f06-448d-e206-f8ff77a0b5d1"
   },
   "outputs": [
    {
     "data": {
      "text/html": [
       "<div>\n",
       "<style scoped>\n",
       "    .dataframe tbody tr th:only-of-type {\n",
       "        vertical-align: middle;\n",
       "    }\n",
       "\n",
       "    .dataframe tbody tr th {\n",
       "        vertical-align: top;\n",
       "    }\n",
       "\n",
       "    .dataframe thead th {\n",
       "        text-align: right;\n",
       "    }\n",
       "</style>\n",
       "<table border=\"1\" class=\"dataframe\">\n",
       "  <thead>\n",
       "    <tr style=\"text-align: right;\">\n",
       "      <th></th>\n",
       "      <th>product_id</th>\n",
       "      <th>product_name</th>\n",
       "      <th>aisle_id</th>\n",
       "      <th>department_id</th>\n",
       "    </tr>\n",
       "  </thead>\n",
       "  <tbody>\n",
       "    <tr>\n",
       "      <th>0</th>\n",
       "      <td>1</td>\n",
       "      <td>Chocolate Sandwich Cookies</td>\n",
       "      <td>61</td>\n",
       "      <td>19</td>\n",
       "    </tr>\n",
       "    <tr>\n",
       "      <th>1</th>\n",
       "      <td>2</td>\n",
       "      <td>All-Seasons Salt</td>\n",
       "      <td>104</td>\n",
       "      <td>13</td>\n",
       "    </tr>\n",
       "    <tr>\n",
       "      <th>2</th>\n",
       "      <td>3</td>\n",
       "      <td>Robust Golden Unsweetened Oolong Tea</td>\n",
       "      <td>94</td>\n",
       "      <td>7</td>\n",
       "    </tr>\n",
       "    <tr>\n",
       "      <th>3</th>\n",
       "      <td>4</td>\n",
       "      <td>Smart Ones Classic Favorites Mini Rigatoni Wit...</td>\n",
       "      <td>38</td>\n",
       "      <td>1</td>\n",
       "    </tr>\n",
       "    <tr>\n",
       "      <th>4</th>\n",
       "      <td>5</td>\n",
       "      <td>Green Chile Anytime Sauce</td>\n",
       "      <td>5</td>\n",
       "      <td>13</td>\n",
       "    </tr>\n",
       "  </tbody>\n",
       "</table>\n",
       "</div>"
      ],
      "text/plain": [
       "   product_id                                       product_name  aisle_id  \\\n",
       "0           1                         Chocolate Sandwich Cookies        61   \n",
       "1           2                                   All-Seasons Salt       104   \n",
       "2           3               Robust Golden Unsweetened Oolong Tea        94   \n",
       "3           4  Smart Ones Classic Favorites Mini Rigatoni Wit...        38   \n",
       "4           5                          Green Chile Anytime Sauce         5   \n",
       "\n",
       "   department_id  \n",
       "0             19  \n",
       "1             13  \n",
       "2              7  \n",
       "3              1  \n",
       "4             13  "
      ]
     },
     "execution_count": 6,
     "metadata": {},
     "output_type": "execute_result"
    }
   ],
   "source": [
    "prod_df.head(5)"
   ]
  },
  {
   "cell_type": "code",
   "execution_count": 7,
   "id": "GVooD2nDjXRp",
   "metadata": {
    "colab": {
     "base_uri": "https://localhost:8080/",
     "height": 1000
    },
    "executionInfo": {
     "elapsed": 177,
     "status": "ok",
     "timestamp": 1744357587171,
     "user": {
      "displayName": "Inger Linza",
      "userId": "17400888250019099943"
     },
     "user_tz": -480
    },
    "id": "GVooD2nDjXRp",
    "outputId": "a36e5a37-b6cf-4ab9-9565-3a37afdab671"
   },
   "outputs": [
    {
     "data": {
      "text/html": [
       "<div>\n",
       "<style scoped>\n",
       "    .dataframe tbody tr th:only-of-type {\n",
       "        vertical-align: middle;\n",
       "    }\n",
       "\n",
       "    .dataframe tbody tr th {\n",
       "        vertical-align: top;\n",
       "    }\n",
       "\n",
       "    .dataframe thead th {\n",
       "        text-align: right;\n",
       "    }\n",
       "</style>\n",
       "<table border=\"1\" class=\"dataframe\">\n",
       "  <thead>\n",
       "    <tr style=\"text-align: right;\">\n",
       "      <th></th>\n",
       "      <th>product_id</th>\n",
       "      <th>product_name</th>\n",
       "      <th>nearest_1</th>\n",
       "      <th>nearest_2</th>\n",
       "      <th>nearest_3</th>\n",
       "      <th>nearest_4</th>\n",
       "      <th>nearest_5</th>\n",
       "      <th>nearest_6</th>\n",
       "      <th>nearest_7</th>\n",
       "      <th>nearest_8</th>\n",
       "      <th>...</th>\n",
       "      <th>nearest_11</th>\n",
       "      <th>nearest_12</th>\n",
       "      <th>nearest_13</th>\n",
       "      <th>nearest_14</th>\n",
       "      <th>nearest_15</th>\n",
       "      <th>nearest_16</th>\n",
       "      <th>nearest_17</th>\n",
       "      <th>nearest_18</th>\n",
       "      <th>nearest_19</th>\n",
       "      <th>nearest_20</th>\n",
       "    </tr>\n",
       "  </thead>\n",
       "  <tbody>\n",
       "    <tr>\n",
       "      <th>0</th>\n",
       "      <td>1</td>\n",
       "      <td>Chocolate Sandwich Cookies</td>\n",
       "      <td>Chocolate Creme Sandwich Cookies</td>\n",
       "      <td>Chocolate Berry Creme Sandwich Cookies</td>\n",
       "      <td>Vanilla Sandwich Cookies</td>\n",
       "      <td>Chocolate Mint Creme Sandwich Cookies</td>\n",
       "      <td>Birthday Cake Chocolate Sandwich Cookies</td>\n",
       "      <td>Crispy Chocolate Chip Cookies</td>\n",
       "      <td>Montanas Chocolate Chip Cookies</td>\n",
       "      <td>Oreo Chocolate Sandwich Cookies</td>\n",
       "      <td>...</td>\n",
       "      <td>Oreo Mini Bite Size Chocolate Sandwich Cookies</td>\n",
       "      <td>Chocolate Chip Crunchy Cookies</td>\n",
       "      <td>Mini Crunchy Chocolate Chip Cookies</td>\n",
       "      <td>Chocolate Peanut Butter Creme Sandwich Cookies</td>\n",
       "      <td>Chocolate Chip Cookies</td>\n",
       "      <td>Chunky Chocolate Chip Cookies</td>\n",
       "      <td>Chocolate Mini Big Bag Sandwich Cookies</td>\n",
       "      <td>Cookie Bites Chocolate Chip Cookies</td>\n",
       "      <td>Mini Chocolate Chunk Cookies</td>\n",
       "      <td>Chewy Chocolate Chip Cookies</td>\n",
       "    </tr>\n",
       "    <tr>\n",
       "      <th>1</th>\n",
       "      <td>2</td>\n",
       "      <td>All-Seasons Salt</td>\n",
       "      <td>Epsom Salt</td>\n",
       "      <td>Season All Seasoned Salt</td>\n",
       "      <td>Table Salt</td>\n",
       "      <td>Lavender Epsom Salt</td>\n",
       "      <td>Premium Epsom Salt</td>\n",
       "      <td>Himalania Fine Pink Salt</td>\n",
       "      <td>Salt Substitute</td>\n",
       "      <td>Canning &amp; Pickling Salt</td>\n",
       "      <td>...</td>\n",
       "      <td>Organic Celery Salt</td>\n",
       "      <td>Coarse Pink Salt</td>\n",
       "      <td>Original Mixed Up Salt</td>\n",
       "      <td>Celery Salt</td>\n",
       "      <td>Original Seasoned Salt</td>\n",
       "      <td>Plain Salt</td>\n",
       "      <td>Lite Salt</td>\n",
       "      <td>Eucalyptus Epsom Salt</td>\n",
       "      <td>Iodized Salt</td>\n",
       "      <td>Lemon &amp; Pepper Seasoning Salt</td>\n",
       "    </tr>\n",
       "    <tr>\n",
       "      <th>2</th>\n",
       "      <td>3</td>\n",
       "      <td>Robust Golden Unsweetened Oolong Tea</td>\n",
       "      <td>Unsweetened Golden Oolong Tea</td>\n",
       "      <td>Unsweetened Black Tea</td>\n",
       "      <td>Earl Grey Decaffeinated Black Tea</td>\n",
       "      <td>Just Green Unsweetened Tea</td>\n",
       "      <td>Unsweetened Pure &amp; Smooth  Green Tea</td>\n",
       "      <td>100% Pure Oolong Tea</td>\n",
       "      <td>Unsweetened Mint Green Tea</td>\n",
       "      <td>Decaffeinated Tea</td>\n",
       "      <td>...</td>\n",
       "      <td>Pure Leaf Unsweetened Iced Tea</td>\n",
       "      <td>Decaffeinated Earl Grey Tea</td>\n",
       "      <td>Pure Leaf Unsweetened Real Brewed Tea</td>\n",
       "      <td>Unsweetened Zero Calorie Green White Tea</td>\n",
       "      <td>Classic Decaffeinated Green Tea</td>\n",
       "      <td>Unsweetened Green Tea</td>\n",
       "      <td>Amber Sun Turmeric Tea</td>\n",
       "      <td>Pure Leaf Unsweetened Green Tea</td>\n",
       "      <td>Organic Unsweetened Black Tea</td>\n",
       "      <td>Caffeine Free Echinacea Complete Care Tea</td>\n",
       "    </tr>\n",
       "    <tr>\n",
       "      <th>3</th>\n",
       "      <td>4</td>\n",
       "      <td>Smart Ones Classic Favorites Mini Rigatoni Wit...</td>\n",
       "      <td>Gluten-Free Yellow Cheddar Cheese Sauce Mix</td>\n",
       "      <td>Creamy Vodka Italian Sauce</td>\n",
       "      <td>Riserva Artichokes &amp; Asiago Cheese Sauce</td>\n",
       "      <td>In a creamy sauce, topped with aged parmesan c...</td>\n",
       "      <td>Creamy Garlic Alfredo Sauce Mix</td>\n",
       "      <td>The Original Picante Sauce, Medium</td>\n",
       "      <td>Creamy Pesto Sauce Mix</td>\n",
       "      <td>Sweet Italian Sasuage</td>\n",
       "      <td>...</td>\n",
       "      <td>Italian Herb Spaghetti Sauce Mix</td>\n",
       "      <td>Grille Sauce, Maple Chipotle</td>\n",
       "      <td>Cheese Creations Creamy Mozzarella Cheese Sauce</td>\n",
       "      <td>Parma Rosa Sauce Mix</td>\n",
       "      <td>Maui Mountain Sweet 'n Sour Sauce &amp; Marinade</td>\n",
       "      <td>Super Blue Cheese Dressing + Dip</td>\n",
       "      <td>Thick &amp; Zesty Spaghetti Sauce Mix</td>\n",
       "      <td>Edamame Fettucine With Thai Coconut Sauce</td>\n",
       "      <td>Raspberry Chipotle Sauce</td>\n",
       "      <td>All-Purpose Sauce, Kale Tahini</td>\n",
       "    </tr>\n",
       "    <tr>\n",
       "      <th>4</th>\n",
       "      <td>5</td>\n",
       "      <td>Green Chile Anytime Sauce</td>\n",
       "      <td>Mild Enchilada Green Chile Sauce</td>\n",
       "      <td>Green Chile Enchilada Sauce</td>\n",
       "      <td>Green Chile Medium Enchilada Sauce</td>\n",
       "      <td>Mild Green Chile Enchilada Sauce</td>\n",
       "      <td>Medium Green Chile Enchilada Sauce</td>\n",
       "      <td>Red Chile Enchilada Sauce</td>\n",
       "      <td>Original Vegan Alfredo Sauce</td>\n",
       "      <td>Mild Red Chile Enchilada Sauce</td>\n",
       "      <td>...</td>\n",
       "      <td>Picante Hot Green Chile Enchilada Sauce</td>\n",
       "      <td>Green Enchilada Sauce</td>\n",
       "      <td>Chunky Garden Combo Italian Sauce</td>\n",
       "      <td>Classic Red Chile Enchilada Sauce</td>\n",
       "      <td>Mild Green Enchilada Sauce</td>\n",
       "      <td>Best Chili Beans Mild Sauce</td>\n",
       "      <td>Black Bean Garlic Sauce</td>\n",
       "      <td>Garlic &amp; Green Onion Teriyaki Sauce</td>\n",
       "      <td>Roasted Garlic Herb Italian Sauce</td>\n",
       "      <td>Garlic Teriyaki Sauce</td>\n",
       "    </tr>\n",
       "  </tbody>\n",
       "</table>\n",
       "<p>5 rows × 22 columns</p>\n",
       "</div>"
      ],
      "text/plain": [
       "   product_id                                       product_name  \\\n",
       "0           1                         Chocolate Sandwich Cookies   \n",
       "1           2                                   All-Seasons Salt   \n",
       "2           3               Robust Golden Unsweetened Oolong Tea   \n",
       "3           4  Smart Ones Classic Favorites Mini Rigatoni Wit...   \n",
       "4           5                          Green Chile Anytime Sauce   \n",
       "\n",
       "                                     nearest_1  \\\n",
       "0             Chocolate Creme Sandwich Cookies   \n",
       "1                                   Epsom Salt   \n",
       "2                Unsweetened Golden Oolong Tea   \n",
       "3  Gluten-Free Yellow Cheddar Cheese Sauce Mix   \n",
       "4             Mild Enchilada Green Chile Sauce   \n",
       "\n",
       "                                nearest_2  \\\n",
       "0  Chocolate Berry Creme Sandwich Cookies   \n",
       "1                Season All Seasoned Salt   \n",
       "2                   Unsweetened Black Tea   \n",
       "3              Creamy Vodka Italian Sauce   \n",
       "4             Green Chile Enchilada Sauce   \n",
       "\n",
       "                                  nearest_3  \\\n",
       "0                  Vanilla Sandwich Cookies   \n",
       "1                                Table Salt   \n",
       "2         Earl Grey Decaffeinated Black Tea   \n",
       "3  Riserva Artichokes & Asiago Cheese Sauce   \n",
       "4        Green Chile Medium Enchilada Sauce   \n",
       "\n",
       "                                           nearest_4  \\\n",
       "0              Chocolate Mint Creme Sandwich Cookies   \n",
       "1                                Lavender Epsom Salt   \n",
       "2                         Just Green Unsweetened Tea   \n",
       "3  In a creamy sauce, topped with aged parmesan c...   \n",
       "4                   Mild Green Chile Enchilada Sauce   \n",
       "\n",
       "                                  nearest_5  \\\n",
       "0  Birthday Cake Chocolate Sandwich Cookies   \n",
       "1                        Premium Epsom Salt   \n",
       "2      Unsweetened Pure & Smooth  Green Tea   \n",
       "3           Creamy Garlic Alfredo Sauce Mix   \n",
       "4        Medium Green Chile Enchilada Sauce   \n",
       "\n",
       "                            nearest_6                        nearest_7  \\\n",
       "0       Crispy Chocolate Chip Cookies  Montanas Chocolate Chip Cookies   \n",
       "1            Himalania Fine Pink Salt                  Salt Substitute   \n",
       "2                100% Pure Oolong Tea       Unsweetened Mint Green Tea   \n",
       "3  The Original Picante Sauce, Medium           Creamy Pesto Sauce Mix   \n",
       "4           Red Chile Enchilada Sauce     Original Vegan Alfredo Sauce   \n",
       "\n",
       "                         nearest_8  ...  \\\n",
       "0  Oreo Chocolate Sandwich Cookies  ...   \n",
       "1          Canning & Pickling Salt  ...   \n",
       "2                Decaffeinated Tea  ...   \n",
       "3            Sweet Italian Sasuage  ...   \n",
       "4   Mild Red Chile Enchilada Sauce  ...   \n",
       "\n",
       "                                       nearest_11  \\\n",
       "0  Oreo Mini Bite Size Chocolate Sandwich Cookies   \n",
       "1                             Organic Celery Salt   \n",
       "2                  Pure Leaf Unsweetened Iced Tea   \n",
       "3                Italian Herb Spaghetti Sauce Mix   \n",
       "4         Picante Hot Green Chile Enchilada Sauce   \n",
       "\n",
       "                       nearest_12  \\\n",
       "0  Chocolate Chip Crunchy Cookies   \n",
       "1                Coarse Pink Salt   \n",
       "2     Decaffeinated Earl Grey Tea   \n",
       "3    Grille Sauce, Maple Chipotle   \n",
       "4           Green Enchilada Sauce   \n",
       "\n",
       "                                        nearest_13  \\\n",
       "0              Mini Crunchy Chocolate Chip Cookies   \n",
       "1                           Original Mixed Up Salt   \n",
       "2            Pure Leaf Unsweetened Real Brewed Tea   \n",
       "3  Cheese Creations Creamy Mozzarella Cheese Sauce   \n",
       "4                Chunky Garden Combo Italian Sauce   \n",
       "\n",
       "                                       nearest_14  \\\n",
       "0  Chocolate Peanut Butter Creme Sandwich Cookies   \n",
       "1                                     Celery Salt   \n",
       "2        Unsweetened Zero Calorie Green White Tea   \n",
       "3                            Parma Rosa Sauce Mix   \n",
       "4               Classic Red Chile Enchilada Sauce   \n",
       "\n",
       "                                     nearest_15  \\\n",
       "0                        Chocolate Chip Cookies   \n",
       "1                        Original Seasoned Salt   \n",
       "2               Classic Decaffeinated Green Tea   \n",
       "3  Maui Mountain Sweet 'n Sour Sauce & Marinade   \n",
       "4                    Mild Green Enchilada Sauce   \n",
       "\n",
       "                         nearest_16                               nearest_17  \\\n",
       "0     Chunky Chocolate Chip Cookies  Chocolate Mini Big Bag Sandwich Cookies   \n",
       "1                        Plain Salt                                Lite Salt   \n",
       "2             Unsweetened Green Tea                   Amber Sun Turmeric Tea   \n",
       "3  Super Blue Cheese Dressing + Dip        Thick & Zesty Spaghetti Sauce Mix   \n",
       "4       Best Chili Beans Mild Sauce                  Black Bean Garlic Sauce   \n",
       "\n",
       "                                  nearest_18  \\\n",
       "0        Cookie Bites Chocolate Chip Cookies   \n",
       "1                      Eucalyptus Epsom Salt   \n",
       "2            Pure Leaf Unsweetened Green Tea   \n",
       "3  Edamame Fettucine With Thai Coconut Sauce   \n",
       "4        Garlic & Green Onion Teriyaki Sauce   \n",
       "\n",
       "                          nearest_19  \\\n",
       "0       Mini Chocolate Chunk Cookies   \n",
       "1                       Iodized Salt   \n",
       "2      Organic Unsweetened Black Tea   \n",
       "3           Raspberry Chipotle Sauce   \n",
       "4  Roasted Garlic Herb Italian Sauce   \n",
       "\n",
       "                                  nearest_20  \n",
       "0               Chewy Chocolate Chip Cookies  \n",
       "1              Lemon & Pepper Seasoning Salt  \n",
       "2  Caffeine Free Echinacea Complete Care Tea  \n",
       "3             All-Purpose Sauce, Kale Tahini  \n",
       "4                      Garlic Teriyaki Sauce  \n",
       "\n",
       "[5 rows x 22 columns]"
      ]
     },
     "execution_count": 7,
     "metadata": {},
     "output_type": "execute_result"
    }
   ],
   "source": [
    "faiss_recom_df.head(5)"
   ]
  },
  {
   "cell_type": "markdown",
   "id": "5-jlHSwYg1SU",
   "metadata": {
    "id": "5-jlHSwYg1SU"
   },
   "source": [
    "# Precision@K, Recall@K, NDCG@K\n",
    "Precision@K: We assume that if the recommended product and the original product belongs to the same category (aisles or department), even if a \"hit\"."
   ]
  },
  {
   "cell_type": "code",
   "execution_count": 8,
   "id": "7236c588-a3ad-4347-b81e-9703f32f1284",
   "metadata": {
    "id": "7236c588-a3ad-4347-b81e-9703f32f1284"
   },
   "outputs": [],
   "source": [
    "def evaluate_recommendation(products_df, neighbors_df, k=20):\n",
    "    # 商品名 -> 类目\n",
    "    name_to_aisle = products_df.set_index(\"product_name\")[\"aisle_id\"].to_dict()\n",
    "\n",
    "    precisions, recalls, ndcgs = [], [], []\n",
    "    total_valid = 0\n",
    "\n",
    "    # 构建类目 -> 商品名集合（用于 Recall@K 分母）\n",
    "    aisle_to_items = products_df.groupby(\"aisle_id\")[\"product_name\"].apply(set).to_dict()\n",
    "\n",
    "    for _, row in neighbors_df.iterrows():\n",
    "        anchor_name = row[\"product_name\"]\n",
    "        recommended_names = [row.get(f\"nearest_{i}\") for i in range(1, k + 1)]\n",
    "\n",
    "        anchor_aisle = name_to_aisle.get(anchor_name)\n",
    "        if anchor_aisle is None:\n",
    "            continue\n",
    "\n",
    "        ground_truth_set = aisle_to_items.get(anchor_aisle, set()) - {anchor_name}\n",
    "        if not ground_truth_set:\n",
    "            continue\n",
    "\n",
    "        hits = 0\n",
    "        rels = []\n",
    "        for rec_name in recommended_names:\n",
    "            rec_aisle = name_to_aisle.get(rec_name)\n",
    "            if rec_aisle is not None and rec_aisle == anchor_aisle:\n",
    "                hits += 1\n",
    "                rels.append(1)\n",
    "            else:\n",
    "                rels.append(0)\n",
    "\n",
    "        # Precision@K\n",
    "        precisions.append(hits / k)\n",
    "\n",
    "        # Recall@K\n",
    "        recall = hits / len(ground_truth_set)\n",
    "        recalls.append(recall)\n",
    "\n",
    "        # NDCG@K\n",
    "        dcg = sum([rel / np.log2(idx + 2) for idx, rel in enumerate(rels)])\n",
    "        idcg = sum([1 / np.log2(i + 2) for i in range(min(len(ground_truth_set), k))])\n",
    "        ndcg = dcg / idcg if idcg > 0 else 0\n",
    "        ndcgs.append(ndcg)\n",
    "\n",
    "        total_valid += 1\n",
    "\n",
    "    return {\n",
    "        \"Precision@K\": sum(precisions) / total_valid,\n",
    "        \"Recall@K\": sum(recalls) / total_valid,\n",
    "        \"NDCG@K\": sum(ndcgs) / total_valid\n",
    "    }\n"
   ]
  },
  {
   "cell_type": "code",
   "execution_count": 9,
   "id": "LhMwgDRR3F44",
   "metadata": {
    "colab": {
     "base_uri": "https://localhost:8080/"
    },
    "executionInfo": {
     "elapsed": 44350,
     "status": "ok",
     "timestamp": 1744358473175,
     "user": {
      "displayName": "Inger Linza",
      "userId": "17400888250019099943"
     },
     "user_tz": -480
    },
    "id": "LhMwgDRR3F44",
    "outputId": "8725668a-b81a-4083-8c4f-7306461b36c0"
   },
   "outputs": [
    {
     "name": "stdout",
     "output_type": "stream",
     "text": [
      "fine tuned sbert+FAISS\n",
      "k=5  {'Precision@K': 0.5986429005468908, 'Recall@K': 0.0075120066333178755, 'NDCG@K': 0.6110854266352317}\n",
      "k=10  {'Precision@K': 0.5663783674296131, 'Recall@K': 0.01409477929798361, 'NDCG@K': 0.5843054483207635}\n",
      "k=15  {'Precision@K': 0.5458672608196611, 'Recall@K': 0.020244831343824658, 'NDCG@K': 0.5664965759644934}\n",
      "k=20  {'Precision@K': 0.5304213084869354, 'Recall@K': 0.02609477732143434, 'NDCG@K': 0.552723751495889}\n"
     ]
    }
   ],
   "source": [
    "print(\"fine tuned sbert+FAISS\")\n",
    "for k_ in [5,10,15,20]:\n",
    "    evaluation = evaluate_recommendation(prod_df, faiss_recom_df, k=k_)\n",
    "    print(f\"k={k_} \",evaluation)"
   ]
  }
 ],
 "metadata": {
  "colab": {
   "provenance": [
    {
     "file_id": "1wHNtFHaR21WLBbi_UevCHnkk6s432_FH",
     "timestamp": 1744283823007
    }
   ]
  },
  "kernelspec": {
   "display_name": "Python [conda env:st5188]",
   "language": "python",
   "name": "conda-env-st5188-py"
  },
  "language_info": {
   "codemirror_mode": {
    "name": "ipython",
    "version": 3
   },
   "file_extension": ".py",
   "mimetype": "text/x-python",
   "name": "python",
   "nbconvert_exporter": "python",
   "pygments_lexer": "ipython3",
   "version": "3.12.3"
  }
 },
 "nbformat": 4,
 "nbformat_minor": 5
}
